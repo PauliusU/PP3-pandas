{
 "cells": [
  {
   "cell_type": "markdown",
   "id": "b338ff2e",
   "metadata": {
    "pycharm": {
     "name": "#%% md\n"
    }
   },
   "source": [
    "# PP3: Pandas"
   ]
  },
  {
   "cell_type": "markdown",
   "id": "5a41f4ff",
   "metadata": {
    "pycharm": {
     "name": "#%% md\n"
    }
   },
   "source": [
    "## Section 1: Getting and knowing your data"
   ]
  },
  {
   "cell_type": "markdown",
   "id": "cb63ad82",
   "metadata": {
    "pycharm": {
     "name": "#%% md\n"
    }
   },
   "source": [
    "### Step 1. Import the necessary libraries"
   ]
  },
  {
   "cell_type": "code",
   "execution_count": 121,
   "id": "1a771838",
   "metadata": {
    "pycharm": {
     "name": "#%%\n"
    }
   },
   "outputs": [
    {
     "data": {
      "text/plain": "'1.4.3'"
     },
     "execution_count": 121,
     "metadata": {},
     "output_type": "execute_result"
    }
   ],
   "source": [
    "import pandas as pd\n",
    "\n",
    "# Check if import was successful\n",
    "pd.__version__"
   ]
  },
  {
   "cell_type": "markdown",
   "id": "8894765f",
   "metadata": {
    "pycharm": {
     "name": "#%% md\n"
    }
   },
   "source": [
    "### Step 2. Import the dataset from this [address](https://raw.githubusercontent.com/justmarkham/DAT8/master/data/u.user)."
   ]
  },
  {
   "cell_type": "code",
   "execution_count": 122,
   "outputs": [],
   "source": [
    "url_users = \"https://raw.githubusercontent.com/justmarkham/DAT8/master/data/u.user\""
   ],
   "metadata": {
    "collapsed": false,
    "pycharm": {
     "name": "#%%\n"
    }
   }
  },
  {
   "cell_type": "markdown",
   "id": "bb471920",
   "metadata": {
    "pycharm": {
     "name": "#%% md\n"
    }
   },
   "source": [
    "### Step 3. Assign it to a variable called users and use the 'user_id' as index"
   ]
  },
  {
   "cell_type": "code",
   "execution_count": 123,
   "id": "029b290f",
   "metadata": {
    "pycharm": {
     "name": "#%%\n"
    }
   },
   "outputs": [],
   "source": [
    "users = pd.read_csv(url_users, index_col=\"user_id\", sep=\"|\")"
   ]
  },
  {
   "cell_type": "markdown",
   "id": "0e757d1f",
   "metadata": {
    "pycharm": {
     "name": "#%% md\n"
    }
   },
   "source": [
    "### Step 4. See the first 25 entries"
   ]
  },
  {
   "cell_type": "code",
   "execution_count": 124,
   "id": "9b87b173",
   "metadata": {
    "scrolled": true,
    "pycharm": {
     "name": "#%%\n"
    }
   },
   "outputs": [
    {
     "data": {
      "text/plain": "         age gender     occupation zip_code\nuser_id                                    \n1         24      M     technician    85711\n2         53      F          other    94043\n3         23      M         writer    32067\n4         24      M     technician    43537\n5         33      F          other    15213\n6         42      M      executive    98101\n7         57      M  administrator    91344\n8         36      M  administrator    05201\n9         29      M        student    01002\n10        53      M         lawyer    90703\n11        39      F          other    30329\n12        28      F          other    06405\n13        47      M       educator    29206\n14        45      M      scientist    55106\n15        49      F       educator    97301\n16        21      M  entertainment    10309\n17        30      M     programmer    06355\n18        35      F          other    37212\n19        40      M      librarian    02138\n20        42      F      homemaker    95660\n21        26      M         writer    30068\n22        25      M         writer    40206\n23        30      F         artist    48197\n24        21      F         artist    94533\n25        39      M       engineer    55107",
      "text/html": "<div>\n<style scoped>\n    .dataframe tbody tr th:only-of-type {\n        vertical-align: middle;\n    }\n\n    .dataframe tbody tr th {\n        vertical-align: top;\n    }\n\n    .dataframe thead th {\n        text-align: right;\n    }\n</style>\n<table border=\"1\" class=\"dataframe\">\n  <thead>\n    <tr style=\"text-align: right;\">\n      <th></th>\n      <th>age</th>\n      <th>gender</th>\n      <th>occupation</th>\n      <th>zip_code</th>\n    </tr>\n    <tr>\n      <th>user_id</th>\n      <th></th>\n      <th></th>\n      <th></th>\n      <th></th>\n    </tr>\n  </thead>\n  <tbody>\n    <tr>\n      <th>1</th>\n      <td>24</td>\n      <td>M</td>\n      <td>technician</td>\n      <td>85711</td>\n    </tr>\n    <tr>\n      <th>2</th>\n      <td>53</td>\n      <td>F</td>\n      <td>other</td>\n      <td>94043</td>\n    </tr>\n    <tr>\n      <th>3</th>\n      <td>23</td>\n      <td>M</td>\n      <td>writer</td>\n      <td>32067</td>\n    </tr>\n    <tr>\n      <th>4</th>\n      <td>24</td>\n      <td>M</td>\n      <td>technician</td>\n      <td>43537</td>\n    </tr>\n    <tr>\n      <th>5</th>\n      <td>33</td>\n      <td>F</td>\n      <td>other</td>\n      <td>15213</td>\n    </tr>\n    <tr>\n      <th>6</th>\n      <td>42</td>\n      <td>M</td>\n      <td>executive</td>\n      <td>98101</td>\n    </tr>\n    <tr>\n      <th>7</th>\n      <td>57</td>\n      <td>M</td>\n      <td>administrator</td>\n      <td>91344</td>\n    </tr>\n    <tr>\n      <th>8</th>\n      <td>36</td>\n      <td>M</td>\n      <td>administrator</td>\n      <td>05201</td>\n    </tr>\n    <tr>\n      <th>9</th>\n      <td>29</td>\n      <td>M</td>\n      <td>student</td>\n      <td>01002</td>\n    </tr>\n    <tr>\n      <th>10</th>\n      <td>53</td>\n      <td>M</td>\n      <td>lawyer</td>\n      <td>90703</td>\n    </tr>\n    <tr>\n      <th>11</th>\n      <td>39</td>\n      <td>F</td>\n      <td>other</td>\n      <td>30329</td>\n    </tr>\n    <tr>\n      <th>12</th>\n      <td>28</td>\n      <td>F</td>\n      <td>other</td>\n      <td>06405</td>\n    </tr>\n    <tr>\n      <th>13</th>\n      <td>47</td>\n      <td>M</td>\n      <td>educator</td>\n      <td>29206</td>\n    </tr>\n    <tr>\n      <th>14</th>\n      <td>45</td>\n      <td>M</td>\n      <td>scientist</td>\n      <td>55106</td>\n    </tr>\n    <tr>\n      <th>15</th>\n      <td>49</td>\n      <td>F</td>\n      <td>educator</td>\n      <td>97301</td>\n    </tr>\n    <tr>\n      <th>16</th>\n      <td>21</td>\n      <td>M</td>\n      <td>entertainment</td>\n      <td>10309</td>\n    </tr>\n    <tr>\n      <th>17</th>\n      <td>30</td>\n      <td>M</td>\n      <td>programmer</td>\n      <td>06355</td>\n    </tr>\n    <tr>\n      <th>18</th>\n      <td>35</td>\n      <td>F</td>\n      <td>other</td>\n      <td>37212</td>\n    </tr>\n    <tr>\n      <th>19</th>\n      <td>40</td>\n      <td>M</td>\n      <td>librarian</td>\n      <td>02138</td>\n    </tr>\n    <tr>\n      <th>20</th>\n      <td>42</td>\n      <td>F</td>\n      <td>homemaker</td>\n      <td>95660</td>\n    </tr>\n    <tr>\n      <th>21</th>\n      <td>26</td>\n      <td>M</td>\n      <td>writer</td>\n      <td>30068</td>\n    </tr>\n    <tr>\n      <th>22</th>\n      <td>25</td>\n      <td>M</td>\n      <td>writer</td>\n      <td>40206</td>\n    </tr>\n    <tr>\n      <th>23</th>\n      <td>30</td>\n      <td>F</td>\n      <td>artist</td>\n      <td>48197</td>\n    </tr>\n    <tr>\n      <th>24</th>\n      <td>21</td>\n      <td>F</td>\n      <td>artist</td>\n      <td>94533</td>\n    </tr>\n    <tr>\n      <th>25</th>\n      <td>39</td>\n      <td>M</td>\n      <td>engineer</td>\n      <td>55107</td>\n    </tr>\n  </tbody>\n</table>\n</div>"
     },
     "execution_count": 124,
     "metadata": {},
     "output_type": "execute_result"
    }
   ],
   "source": [
    "users.head(25)"
   ]
  },
  {
   "cell_type": "markdown",
   "id": "bd80aafc",
   "metadata": {
    "pycharm": {
     "name": "#%% md\n"
    }
   },
   "source": [
    "### Step 5. See the last 10 entries"
   ]
  },
  {
   "cell_type": "code",
   "execution_count": 125,
   "id": "f58c85c1",
   "metadata": {
    "scrolled": true,
    "pycharm": {
     "name": "#%%\n"
    }
   },
   "outputs": [
    {
     "data": {
      "text/plain": "         age gender     occupation zip_code\nuser_id                                    \n934       61      M       engineer    22902\n935       42      M         doctor    66221\n936       24      M          other    32789\n937       48      M       educator    98072\n938       38      F     technician    55038\n939       26      F        student    33319\n940       32      M  administrator    02215\n941       20      M        student    97229\n942       48      F      librarian    78209\n943       22      M        student    77841",
      "text/html": "<div>\n<style scoped>\n    .dataframe tbody tr th:only-of-type {\n        vertical-align: middle;\n    }\n\n    .dataframe tbody tr th {\n        vertical-align: top;\n    }\n\n    .dataframe thead th {\n        text-align: right;\n    }\n</style>\n<table border=\"1\" class=\"dataframe\">\n  <thead>\n    <tr style=\"text-align: right;\">\n      <th></th>\n      <th>age</th>\n      <th>gender</th>\n      <th>occupation</th>\n      <th>zip_code</th>\n    </tr>\n    <tr>\n      <th>user_id</th>\n      <th></th>\n      <th></th>\n      <th></th>\n      <th></th>\n    </tr>\n  </thead>\n  <tbody>\n    <tr>\n      <th>934</th>\n      <td>61</td>\n      <td>M</td>\n      <td>engineer</td>\n      <td>22902</td>\n    </tr>\n    <tr>\n      <th>935</th>\n      <td>42</td>\n      <td>M</td>\n      <td>doctor</td>\n      <td>66221</td>\n    </tr>\n    <tr>\n      <th>936</th>\n      <td>24</td>\n      <td>M</td>\n      <td>other</td>\n      <td>32789</td>\n    </tr>\n    <tr>\n      <th>937</th>\n      <td>48</td>\n      <td>M</td>\n      <td>educator</td>\n      <td>98072</td>\n    </tr>\n    <tr>\n      <th>938</th>\n      <td>38</td>\n      <td>F</td>\n      <td>technician</td>\n      <td>55038</td>\n    </tr>\n    <tr>\n      <th>939</th>\n      <td>26</td>\n      <td>F</td>\n      <td>student</td>\n      <td>33319</td>\n    </tr>\n    <tr>\n      <th>940</th>\n      <td>32</td>\n      <td>M</td>\n      <td>administrator</td>\n      <td>02215</td>\n    </tr>\n    <tr>\n      <th>941</th>\n      <td>20</td>\n      <td>M</td>\n      <td>student</td>\n      <td>97229</td>\n    </tr>\n    <tr>\n      <th>942</th>\n      <td>48</td>\n      <td>F</td>\n      <td>librarian</td>\n      <td>78209</td>\n    </tr>\n    <tr>\n      <th>943</th>\n      <td>22</td>\n      <td>M</td>\n      <td>student</td>\n      <td>77841</td>\n    </tr>\n  </tbody>\n</table>\n</div>"
     },
     "execution_count": 125,
     "metadata": {},
     "output_type": "execute_result"
    }
   ],
   "source": [
    "users.tail(10)"
   ]
  },
  {
   "cell_type": "markdown",
   "id": "e65bd1c8",
   "metadata": {
    "pycharm": {
     "name": "#%% md\n"
    }
   },
   "source": [
    "### Step 6. What is the number of observations in the dataset?"
   ]
  },
  {
   "cell_type": "code",
   "execution_count": 126,
   "id": "2178d579",
   "metadata": {
    "pycharm": {
     "name": "#%%\n"
    }
   },
   "outputs": [
    {
     "data": {
      "text/plain": "943"
     },
     "execution_count": 126,
     "metadata": {},
     "output_type": "execute_result"
    }
   ],
   "source": [
    "users.shape[0]  # Gets number of rows (observations)"
   ]
  },
  {
   "cell_type": "markdown",
   "id": "218a3880",
   "metadata": {
    "pycharm": {
     "name": "#%% md\n"
    }
   },
   "source": [
    "### Step 7. What is the number of columns in the dataset?"
   ]
  },
  {
   "cell_type": "code",
   "execution_count": 127,
   "id": "d569393f",
   "metadata": {
    "pycharm": {
     "name": "#%%\n"
    }
   },
   "outputs": [
    {
     "data": {
      "text/plain": "4"
     },
     "execution_count": 127,
     "metadata": {},
     "output_type": "execute_result"
    }
   ],
   "source": [
    "users.shape[1]"
   ]
  },
  {
   "cell_type": "markdown",
   "id": "2a146809",
   "metadata": {
    "pycharm": {
     "name": "#%% md\n"
    }
   },
   "source": [
    "### Step 8. Print the name of all the columns."
   ]
  },
  {
   "cell_type": "code",
   "execution_count": 128,
   "id": "9cf2fa51",
   "metadata": {
    "pycharm": {
     "name": "#%%\n"
    }
   },
   "outputs": [
    {
     "name": "stdout",
     "output_type": "stream",
     "text": [
      "age\n",
      "gender\n",
      "occupation\n",
      "zip_code\n"
     ]
    }
   ],
   "source": [
    "# print(users.columns)  # The column labels of the DataFrame.\n",
    "# print(users.keys())  # The column labels of the DataFrame.\n",
    "\n",
    "# Print column names only (without additional info)\n",
    "for col_name in users.columns:\n",
    "    print(col_name)"
   ]
  },
  {
   "cell_type": "markdown",
   "id": "2b96bd9b",
   "metadata": {
    "pycharm": {
     "name": "#%% md\n"
    }
   },
   "source": [
    "### Step 9. How is the dataset indexed?"
   ]
  },
  {
   "cell_type": "code",
   "execution_count": 129,
   "id": "dd192018",
   "metadata": {
    "pycharm": {
     "name": "#%%\n"
    }
   },
   "outputs": [
    {
     "data": {
      "text/plain": "Int64Index([  1,   2,   3,   4,   5,   6,   7,   8,   9,  10,\n            ...\n            934, 935, 936, 937, 938, 939, 940, 941, 942, 943],\n           dtype='int64', name='user_id', length=943)"
     },
     "execution_count": 129,
     "metadata": {},
     "output_type": "execute_result"
    }
   ],
   "source": [
    "users.index"
   ]
  },
  {
   "cell_type": "markdown",
   "id": "6427a9b7",
   "metadata": {
    "pycharm": {
     "name": "#%% md\n"
    }
   },
   "source": [
    "### Step 10. What is the data type of each column?"
   ]
  },
  {
   "cell_type": "code",
   "execution_count": 130,
   "id": "1e75ae0a",
   "metadata": {
    "pycharm": {
     "name": "#%%\n"
    }
   },
   "outputs": [
    {
     "data": {
      "text/plain": "age            int64\ngender        object\noccupation    object\nzip_code      object\ndtype: object"
     },
     "execution_count": 130,
     "metadata": {},
     "output_type": "execute_result"
    }
   ],
   "source": [
    "users.dtypes"
   ]
  },
  {
   "cell_type": "markdown",
   "id": "e9676543",
   "metadata": {
    "pycharm": {
     "name": "#%% md\n"
    }
   },
   "source": [
    "### Step 11. Print only the occupation column"
   ]
  },
  {
   "cell_type": "code",
   "execution_count": 131,
   "id": "e34386ba",
   "metadata": {
    "pycharm": {
     "name": "#%%\n"
    }
   },
   "outputs": [
    {
     "data": {
      "text/plain": "user_id\n1         technician\n2              other\n3             writer\n4         technician\n5              other\n           ...      \n939          student\n940    administrator\n941          student\n942        librarian\n943          student\nName: occupation, Length: 943, dtype: object"
     },
     "execution_count": 131,
     "metadata": {},
     "output_type": "execute_result"
    }
   ],
   "source": [
    "users.occupation"
   ]
  },
  {
   "cell_type": "markdown",
   "id": "41b56d2e",
   "metadata": {
    "pycharm": {
     "name": "#%% md\n"
    }
   },
   "source": [
    "### Step 12. How many different occupations are in this dataset?"
   ]
  },
  {
   "cell_type": "code",
   "execution_count": 132,
   "id": "0051bdb3",
   "metadata": {
    "pycharm": {
     "name": "#%%\n"
    }
   },
   "outputs": [
    {
     "name": "stdout",
     "output_type": "stream",
     "text": [
      "21\n"
     ]
    }
   ],
   "source": [
    "unique_occupations = users.occupation.unique()\n",
    "num_of_unique_occupations = len(unique_occupations)\n",
    "\n",
    "print(num_of_unique_occupations)"
   ]
  },
  {
   "cell_type": "markdown",
   "id": "4dba5819",
   "metadata": {
    "pycharm": {
     "name": "#%% md\n"
    }
   },
   "source": [
    "### Step 13. What is the most frequent occupation?"
   ]
  },
  {
   "cell_type": "code",
   "execution_count": 133,
   "id": "d0778f17",
   "metadata": {
    "pycharm": {
     "name": "#%%\n"
    }
   },
   "outputs": [
    {
     "data": {
      "text/plain": "0    student\nName: occupation, dtype: object"
     },
     "execution_count": 133,
     "metadata": {},
     "output_type": "execute_result"
    }
   ],
   "source": [
    "# users.occupation.value_counts() # Get count of all frequencies of occupations\n",
    "\n",
    "users.occupation.mode()  # Get only the most frequent occupation"
   ]
  },
  {
   "cell_type": "markdown",
   "id": "4386018b",
   "metadata": {
    "pycharm": {
     "name": "#%% md\n"
    }
   },
   "source": [
    "### Step 14. Summarize the DataFrame."
   ]
  },
  {
   "cell_type": "code",
   "execution_count": 134,
   "id": "aa3e5433",
   "metadata": {
    "pycharm": {
     "name": "#%%\n"
    }
   },
   "outputs": [
    {
     "data": {
      "text/plain": "              age\ncount  943.000000\nmean    34.051962\nstd     12.192740\nmin      7.000000\n25%     25.000000\n50%     31.000000\n75%     43.000000\nmax     73.000000",
      "text/html": "<div>\n<style scoped>\n    .dataframe tbody tr th:only-of-type {\n        vertical-align: middle;\n    }\n\n    .dataframe tbody tr th {\n        vertical-align: top;\n    }\n\n    .dataframe thead th {\n        text-align: right;\n    }\n</style>\n<table border=\"1\" class=\"dataframe\">\n  <thead>\n    <tr style=\"text-align: right;\">\n      <th></th>\n      <th>age</th>\n    </tr>\n  </thead>\n  <tbody>\n    <tr>\n      <th>count</th>\n      <td>943.000000</td>\n    </tr>\n    <tr>\n      <th>mean</th>\n      <td>34.051962</td>\n    </tr>\n    <tr>\n      <th>std</th>\n      <td>12.192740</td>\n    </tr>\n    <tr>\n      <th>min</th>\n      <td>7.000000</td>\n    </tr>\n    <tr>\n      <th>25%</th>\n      <td>25.000000</td>\n    </tr>\n    <tr>\n      <th>50%</th>\n      <td>31.000000</td>\n    </tr>\n    <tr>\n      <th>75%</th>\n      <td>43.000000</td>\n    </tr>\n    <tr>\n      <th>max</th>\n      <td>73.000000</td>\n    </tr>\n  </tbody>\n</table>\n</div>"
     },
     "execution_count": 134,
     "metadata": {},
     "output_type": "execute_result"
    }
   ],
   "source": [
    "# users.info()\n",
    "users.describe()"
   ]
  },
  {
   "cell_type": "markdown",
   "id": "79bd4c12",
   "metadata": {
    "pycharm": {
     "name": "#%% md\n"
    }
   },
   "source": [
    "### Step 15. Summarize all the columns"
   ]
  },
  {
   "cell_type": "code",
   "execution_count": 135,
   "id": "8b5ea300",
   "metadata": {
    "pycharm": {
     "name": "#%%\n"
    }
   },
   "outputs": [
    {
     "data": {
      "text/plain": "               age gender occupation zip_code\ncount   943.000000    943        943      943\nunique         NaN      2         21      795\ntop            NaN      M    student    55414\nfreq           NaN    670        196        9\nmean     34.051962    NaN        NaN      NaN\nstd      12.192740    NaN        NaN      NaN\nmin       7.000000    NaN        NaN      NaN\n25%      25.000000    NaN        NaN      NaN\n50%      31.000000    NaN        NaN      NaN\n75%      43.000000    NaN        NaN      NaN\nmax      73.000000    NaN        NaN      NaN",
      "text/html": "<div>\n<style scoped>\n    .dataframe tbody tr th:only-of-type {\n        vertical-align: middle;\n    }\n\n    .dataframe tbody tr th {\n        vertical-align: top;\n    }\n\n    .dataframe thead th {\n        text-align: right;\n    }\n</style>\n<table border=\"1\" class=\"dataframe\">\n  <thead>\n    <tr style=\"text-align: right;\">\n      <th></th>\n      <th>age</th>\n      <th>gender</th>\n      <th>occupation</th>\n      <th>zip_code</th>\n    </tr>\n  </thead>\n  <tbody>\n    <tr>\n      <th>count</th>\n      <td>943.000000</td>\n      <td>943</td>\n      <td>943</td>\n      <td>943</td>\n    </tr>\n    <tr>\n      <th>unique</th>\n      <td>NaN</td>\n      <td>2</td>\n      <td>21</td>\n      <td>795</td>\n    </tr>\n    <tr>\n      <th>top</th>\n      <td>NaN</td>\n      <td>M</td>\n      <td>student</td>\n      <td>55414</td>\n    </tr>\n    <tr>\n      <th>freq</th>\n      <td>NaN</td>\n      <td>670</td>\n      <td>196</td>\n      <td>9</td>\n    </tr>\n    <tr>\n      <th>mean</th>\n      <td>34.051962</td>\n      <td>NaN</td>\n      <td>NaN</td>\n      <td>NaN</td>\n    </tr>\n    <tr>\n      <th>std</th>\n      <td>12.192740</td>\n      <td>NaN</td>\n      <td>NaN</td>\n      <td>NaN</td>\n    </tr>\n    <tr>\n      <th>min</th>\n      <td>7.000000</td>\n      <td>NaN</td>\n      <td>NaN</td>\n      <td>NaN</td>\n    </tr>\n    <tr>\n      <th>25%</th>\n      <td>25.000000</td>\n      <td>NaN</td>\n      <td>NaN</td>\n      <td>NaN</td>\n    </tr>\n    <tr>\n      <th>50%</th>\n      <td>31.000000</td>\n      <td>NaN</td>\n      <td>NaN</td>\n      <td>NaN</td>\n    </tr>\n    <tr>\n      <th>75%</th>\n      <td>43.000000</td>\n      <td>NaN</td>\n      <td>NaN</td>\n      <td>NaN</td>\n    </tr>\n    <tr>\n      <th>max</th>\n      <td>73.000000</td>\n      <td>NaN</td>\n      <td>NaN</td>\n      <td>NaN</td>\n    </tr>\n  </tbody>\n</table>\n</div>"
     },
     "execution_count": 135,
     "metadata": {},
     "output_type": "execute_result"
    }
   ],
   "source": [
    "users.describe(include=\"all\")"
   ]
  },
  {
   "cell_type": "markdown",
   "id": "42126f94",
   "metadata": {
    "pycharm": {
     "name": "#%% md\n"
    }
   },
   "source": [
    "### Step 16. Summarize only the occupation column"
   ]
  },
  {
   "cell_type": "code",
   "execution_count": 136,
   "id": "28b3daa9",
   "metadata": {
    "pycharm": {
     "name": "#%%\n"
    }
   },
   "outputs": [
    {
     "data": {
      "text/plain": "count         943\nunique         21\ntop       student\nfreq          196\nName: occupation, dtype: object"
     },
     "execution_count": 136,
     "metadata": {},
     "output_type": "execute_result"
    }
   ],
   "source": [
    "users.occupation.describe()"
   ]
  },
  {
   "cell_type": "markdown",
   "id": "e368e6f5",
   "metadata": {
    "pycharm": {
     "name": "#%% md\n"
    }
   },
   "source": [
    "### Step 17. What is the mean age of users?"
   ]
  },
  {
   "cell_type": "code",
   "execution_count": 137,
   "id": "3106a605",
   "metadata": {
    "pycharm": {
     "name": "#%%\n"
    }
   },
   "outputs": [
    {
     "data": {
      "text/plain": "34.05196182396607"
     },
     "execution_count": 137,
     "metadata": {},
     "output_type": "execute_result"
    }
   ],
   "source": [
    "users.age.mean()"
   ]
  },
  {
   "cell_type": "markdown",
   "id": "1e65e834",
   "metadata": {
    "pycharm": {
     "name": "#%% md\n"
    }
   },
   "source": [
    "### Step 18. What is the age with least occurrence?"
   ]
  },
  {
   "cell_type": "code",
   "execution_count": 138,
   "id": "5ee5a0f2",
   "metadata": {
    "pycharm": {
     "name": "#%%\n"
    }
   },
   "outputs": [
    {
     "data": {
      "text/plain": "7     1\n66    1\n11    1\n10    1\n73    1\nName: age, dtype: int64"
     },
     "execution_count": 138,
     "metadata": {},
     "output_type": "execute_result"
    }
   ],
   "source": [
    "users.age.value_counts().tail()"
   ]
  },
  {
   "cell_type": "markdown",
   "id": "f3303768",
   "metadata": {
    "pycharm": {
     "name": "#%% md\n"
    }
   },
   "source": [
    "## Section 2: Filtering and Sorting"
   ]
  },
  {
   "cell_type": "markdown",
   "id": "f9f86817",
   "metadata": {
    "pycharm": {
     "name": "#%% md\n"
    }
   },
   "source": [
    "### Step 1. Import the necessary libraries"
   ]
  },
  {
   "cell_type": "code",
   "execution_count": 139,
   "id": "746df2d7",
   "metadata": {
    "pycharm": {
     "name": "#%%\n"
    }
   },
   "outputs": [
    {
     "data": {
      "text/plain": "'1.4.3'"
     },
     "execution_count": 139,
     "metadata": {},
     "output_type": "execute_result"
    }
   ],
   "source": [
    "import pandas as pd\n",
    "\n",
    "# Check if import was successful\n",
    "pd.__version__"
   ]
  },
  {
   "cell_type": "markdown",
   "id": "00896ee1",
   "metadata": {
    "pycharm": {
     "name": "#%% md\n"
    }
   },
   "source": [
    "### Step 2. Import the dataset from this [address](https://raw.githubusercontent.com/guipsamora/pandas_exercises/master/02_Filtering_%26_Sorting/Euro12/Euro_2012_stats_TEAM.csv)."
   ]
  },
  {
   "cell_type": "code",
   "execution_count": 140,
   "outputs": [],
   "source": [
    "url_euro12_data = \"https://raw.githubusercontent.com/guipsamora/pandas_exercises/master/02_Filtering_%26_Sorting/Euro12/Euro_2012_stats_TEAM.csv\""
   ],
   "metadata": {
    "collapsed": false,
    "pycharm": {
     "name": "#%%\n"
    }
   }
  },
  {
   "cell_type": "markdown",
   "id": "d4d5c165",
   "metadata": {
    "pycharm": {
     "name": "#%% md\n"
    }
   },
   "source": [
    "### Step 3. Assign it to a variable called euro12."
   ]
  },
  {
   "cell_type": "code",
   "execution_count": 141,
   "id": "2976e766",
   "metadata": {
    "pycharm": {
     "name": "#%%\n"
    }
   },
   "outputs": [],
   "source": [
    "euro12 = pd.read_csv(url_euro12_data)"
   ]
  },
  {
   "cell_type": "markdown",
   "id": "e54e7b26",
   "metadata": {
    "pycharm": {
     "name": "#%% md\n"
    }
   },
   "source": [
    "### Step 4. Select only the Goal column."
   ]
  },
  {
   "cell_type": "code",
   "execution_count": 142,
   "id": "0d68252a",
   "metadata": {
    "pycharm": {
     "name": "#%%\n"
    }
   },
   "outputs": [
    {
     "data": {
      "text/plain": "0      4\n1      4\n2      4\n3      5\n4      3\n5     10\n6      5\n7      6\n8      2\n9      2\n10     6\n11     1\n12     5\n13    12\n14     5\n15     2\nName: Goals, dtype: int64"
     },
     "execution_count": 142,
     "metadata": {},
     "output_type": "execute_result"
    }
   ],
   "source": [
    "euro12.Goals"
   ]
  },
  {
   "cell_type": "markdown",
   "id": "3ba9eb18",
   "metadata": {
    "pycharm": {
     "name": "#%% md\n"
    }
   },
   "source": [
    "### Step 5. How many team participated in the Euro2012?"
   ]
  },
  {
   "cell_type": "code",
   "execution_count": 143,
   "id": "2908418c",
   "metadata": {
    "pycharm": {
     "name": "#%%\n"
    }
   },
   "outputs": [
    {
     "data": {
      "text/plain": "16"
     },
     "execution_count": 143,
     "metadata": {},
     "output_type": "execute_result"
    }
   ],
   "source": [
    "euro12.Team.count()"
   ]
  },
  {
   "cell_type": "markdown",
   "id": "974c9458",
   "metadata": {
    "pycharm": {
     "name": "#%% md\n"
    }
   },
   "source": [
    "### Step 6. What is the number of columns in the dataset?"
   ]
  },
  {
   "cell_type": "code",
   "execution_count": 144,
   "id": "149f8fb8",
   "metadata": {
    "pycharm": {
     "name": "#%%\n"
    }
   },
   "outputs": [
    {
     "data": {
      "text/plain": "35"
     },
     "execution_count": 144,
     "metadata": {},
     "output_type": "execute_result"
    }
   ],
   "source": [
    "euro12.shape[1]"
   ]
  },
  {
   "cell_type": "markdown",
   "id": "d4e7f6ab",
   "metadata": {
    "pycharm": {
     "name": "#%% md\n"
    }
   },
   "source": [
    "### Step 7. View only the columns Team, Yellow Cards and Red Cards and assign them to a dataframe called discipline"
   ]
  },
  {
   "cell_type": "code",
   "execution_count": 145,
   "id": "7a70b451",
   "metadata": {
    "pycharm": {
     "name": "#%%\n"
    }
   },
   "outputs": [
    {
     "name": "stdout",
     "output_type": "stream",
     "text": [
      "                   Team  Yellow Cards  Red Cards\n",
      "0               Croatia             9          0\n",
      "1        Czech Republic             7          0\n",
      "2               Denmark             4          0\n",
      "3               England             5          0\n",
      "4                France             6          0\n",
      "5               Germany             4          0\n",
      "6                Greece             9          1\n",
      "7                 Italy            16          0\n",
      "8           Netherlands             5          0\n",
      "9                Poland             7          1\n",
      "10             Portugal            12          0\n",
      "11  Republic of Ireland             6          1\n",
      "12               Russia             6          0\n",
      "13                Spain            11          0\n",
      "14               Sweden             7          0\n",
      "15              Ukraine             5          0\n"
     ]
    }
   ],
   "source": [
    "discipline = euro12[[\"Team\", \"Yellow Cards\", \"Red Cards\"]]\n",
    "print(discipline)"
   ]
  },
  {
   "cell_type": "markdown",
   "id": "e784fb9e",
   "metadata": {
    "pycharm": {
     "name": "#%% md\n"
    }
   },
   "source": [
    "### Step 8. Sort the teams by Red Cards, then to Yellow Cards"
   ]
  },
  {
   "cell_type": "code",
   "execution_count": 146,
   "id": "13ef25f4",
   "metadata": {
    "scrolled": true,
    "pycharm": {
     "name": "#%%\n"
    }
   },
   "outputs": [
    {
     "data": {
      "text/plain": "                   Team  Yellow Cards  Red Cards\n0               Croatia             9          0\n1        Czech Republic             7          0\n2               Denmark             4          0\n3               England             5          0\n4                France             6          0\n5               Germany             4          0\n7                 Italy            16          0\n8           Netherlands             5          0\n10             Portugal            12          0\n12               Russia             6          0\n13                Spain            11          0\n14               Sweden             7          0\n15              Ukraine             5          0\n6                Greece             9          1\n9                Poland             7          1\n11  Republic of Ireland             6          1",
      "text/html": "<div>\n<style scoped>\n    .dataframe tbody tr th:only-of-type {\n        vertical-align: middle;\n    }\n\n    .dataframe tbody tr th {\n        vertical-align: top;\n    }\n\n    .dataframe thead th {\n        text-align: right;\n    }\n</style>\n<table border=\"1\" class=\"dataframe\">\n  <thead>\n    <tr style=\"text-align: right;\">\n      <th></th>\n      <th>Team</th>\n      <th>Yellow Cards</th>\n      <th>Red Cards</th>\n    </tr>\n  </thead>\n  <tbody>\n    <tr>\n      <th>0</th>\n      <td>Croatia</td>\n      <td>9</td>\n      <td>0</td>\n    </tr>\n    <tr>\n      <th>1</th>\n      <td>Czech Republic</td>\n      <td>7</td>\n      <td>0</td>\n    </tr>\n    <tr>\n      <th>2</th>\n      <td>Denmark</td>\n      <td>4</td>\n      <td>0</td>\n    </tr>\n    <tr>\n      <th>3</th>\n      <td>England</td>\n      <td>5</td>\n      <td>0</td>\n    </tr>\n    <tr>\n      <th>4</th>\n      <td>France</td>\n      <td>6</td>\n      <td>0</td>\n    </tr>\n    <tr>\n      <th>5</th>\n      <td>Germany</td>\n      <td>4</td>\n      <td>0</td>\n    </tr>\n    <tr>\n      <th>7</th>\n      <td>Italy</td>\n      <td>16</td>\n      <td>0</td>\n    </tr>\n    <tr>\n      <th>8</th>\n      <td>Netherlands</td>\n      <td>5</td>\n      <td>0</td>\n    </tr>\n    <tr>\n      <th>10</th>\n      <td>Portugal</td>\n      <td>12</td>\n      <td>0</td>\n    </tr>\n    <tr>\n      <th>12</th>\n      <td>Russia</td>\n      <td>6</td>\n      <td>0</td>\n    </tr>\n    <tr>\n      <th>13</th>\n      <td>Spain</td>\n      <td>11</td>\n      <td>0</td>\n    </tr>\n    <tr>\n      <th>14</th>\n      <td>Sweden</td>\n      <td>7</td>\n      <td>0</td>\n    </tr>\n    <tr>\n      <th>15</th>\n      <td>Ukraine</td>\n      <td>5</td>\n      <td>0</td>\n    </tr>\n    <tr>\n      <th>6</th>\n      <td>Greece</td>\n      <td>9</td>\n      <td>1</td>\n    </tr>\n    <tr>\n      <th>9</th>\n      <td>Poland</td>\n      <td>7</td>\n      <td>1</td>\n    </tr>\n    <tr>\n      <th>11</th>\n      <td>Republic of Ireland</td>\n      <td>6</td>\n      <td>1</td>\n    </tr>\n  </tbody>\n</table>\n</div>"
     },
     "execution_count": 146,
     "metadata": {},
     "output_type": "execute_result"
    }
   ],
   "source": [
    "discipline.sort_values(\"Red Cards\")"
   ]
  },
  {
   "cell_type": "code",
   "execution_count": 147,
   "outputs": [
    {
     "data": {
      "text/plain": "                   Team  Yellow Cards  Red Cards\n2               Denmark             4          0\n5               Germany             4          0\n3               England             5          0\n8           Netherlands             5          0\n15              Ukraine             5          0\n4                France             6          0\n11  Republic of Ireland             6          1\n12               Russia             6          0\n1        Czech Republic             7          0\n9                Poland             7          1\n14               Sweden             7          0\n0               Croatia             9          0\n6                Greece             9          1\n13                Spain            11          0\n10             Portugal            12          0\n7                 Italy            16          0",
      "text/html": "<div>\n<style scoped>\n    .dataframe tbody tr th:only-of-type {\n        vertical-align: middle;\n    }\n\n    .dataframe tbody tr th {\n        vertical-align: top;\n    }\n\n    .dataframe thead th {\n        text-align: right;\n    }\n</style>\n<table border=\"1\" class=\"dataframe\">\n  <thead>\n    <tr style=\"text-align: right;\">\n      <th></th>\n      <th>Team</th>\n      <th>Yellow Cards</th>\n      <th>Red Cards</th>\n    </tr>\n  </thead>\n  <tbody>\n    <tr>\n      <th>2</th>\n      <td>Denmark</td>\n      <td>4</td>\n      <td>0</td>\n    </tr>\n    <tr>\n      <th>5</th>\n      <td>Germany</td>\n      <td>4</td>\n      <td>0</td>\n    </tr>\n    <tr>\n      <th>3</th>\n      <td>England</td>\n      <td>5</td>\n      <td>0</td>\n    </tr>\n    <tr>\n      <th>8</th>\n      <td>Netherlands</td>\n      <td>5</td>\n      <td>0</td>\n    </tr>\n    <tr>\n      <th>15</th>\n      <td>Ukraine</td>\n      <td>5</td>\n      <td>0</td>\n    </tr>\n    <tr>\n      <th>4</th>\n      <td>France</td>\n      <td>6</td>\n      <td>0</td>\n    </tr>\n    <tr>\n      <th>11</th>\n      <td>Republic of Ireland</td>\n      <td>6</td>\n      <td>1</td>\n    </tr>\n    <tr>\n      <th>12</th>\n      <td>Russia</td>\n      <td>6</td>\n      <td>0</td>\n    </tr>\n    <tr>\n      <th>1</th>\n      <td>Czech Republic</td>\n      <td>7</td>\n      <td>0</td>\n    </tr>\n    <tr>\n      <th>9</th>\n      <td>Poland</td>\n      <td>7</td>\n      <td>1</td>\n    </tr>\n    <tr>\n      <th>14</th>\n      <td>Sweden</td>\n      <td>7</td>\n      <td>0</td>\n    </tr>\n    <tr>\n      <th>0</th>\n      <td>Croatia</td>\n      <td>9</td>\n      <td>0</td>\n    </tr>\n    <tr>\n      <th>6</th>\n      <td>Greece</td>\n      <td>9</td>\n      <td>1</td>\n    </tr>\n    <tr>\n      <th>13</th>\n      <td>Spain</td>\n      <td>11</td>\n      <td>0</td>\n    </tr>\n    <tr>\n      <th>10</th>\n      <td>Portugal</td>\n      <td>12</td>\n      <td>0</td>\n    </tr>\n    <tr>\n      <th>7</th>\n      <td>Italy</td>\n      <td>16</td>\n      <td>0</td>\n    </tr>\n  </tbody>\n</table>\n</div>"
     },
     "execution_count": 147,
     "metadata": {},
     "output_type": "execute_result"
    }
   ],
   "source": [
    "discipline.sort_values(\"Yellow Cards\")"
   ],
   "metadata": {
    "collapsed": false,
    "pycharm": {
     "name": "#%%\n"
    }
   }
  },
  {
   "cell_type": "markdown",
   "id": "fde074ed",
   "metadata": {
    "pycharm": {
     "name": "#%% md\n"
    }
   },
   "source": [
    "### Step 9. Calculate the mean Yellow Cards given per Team"
   ]
  },
  {
   "cell_type": "code",
   "execution_count": 148,
   "id": "f3b78c91",
   "metadata": {
    "pycharm": {
     "name": "#%%\n"
    }
   },
   "outputs": [
    {
     "data": {
      "text/plain": "7.4375"
     },
     "execution_count": 148,
     "metadata": {},
     "output_type": "execute_result"
    }
   ],
   "source": [
    "discipline[\"Yellow Cards\"].mean()"
   ]
  },
  {
   "cell_type": "markdown",
   "id": "00ae5eb8",
   "metadata": {
    "pycharm": {
     "name": "#%% md\n"
    }
   },
   "source": [
    "### Step 10. Filter teams that scored more than 6 goals"
   ]
  },
  {
   "cell_type": "code",
   "execution_count": 149,
   "id": "64eed392",
   "metadata": {
    "pycharm": {
     "name": "#%%\n"
    }
   },
   "outputs": [
    {
     "data": {
      "text/plain": "       Team  Goals  Shots on target  Shots off target Shooting Accuracy  \\\n5   Germany     10               32                32             47.8%   \n13    Spain     12               42                33             55.9%   \n\n   % Goals-to-shots  Total shots (inc. Blocked)  Hit Woodwork  Penalty goals  \\\n5             15.6%                          80             2              1   \n13            16.0%                         100             0              1   \n\n    Penalties not scored  ...  Saves made  Saves-to-shots ratio  Fouls Won  \\\n5                      0  ...          10                 62.6%         63   \n13                     0  ...          15                 93.8%        102   \n\n   Fouls Conceded  Offsides  Yellow Cards  Red Cards  Subs on  Subs off  \\\n5              49        12             4          0       15        15   \n13             83        19            11          0       17        17   \n\n    Players Used  \n5             17  \n13            18  \n\n[2 rows x 35 columns]",
      "text/html": "<div>\n<style scoped>\n    .dataframe tbody tr th:only-of-type {\n        vertical-align: middle;\n    }\n\n    .dataframe tbody tr th {\n        vertical-align: top;\n    }\n\n    .dataframe thead th {\n        text-align: right;\n    }\n</style>\n<table border=\"1\" class=\"dataframe\">\n  <thead>\n    <tr style=\"text-align: right;\">\n      <th></th>\n      <th>Team</th>\n      <th>Goals</th>\n      <th>Shots on target</th>\n      <th>Shots off target</th>\n      <th>Shooting Accuracy</th>\n      <th>% Goals-to-shots</th>\n      <th>Total shots (inc. Blocked)</th>\n      <th>Hit Woodwork</th>\n      <th>Penalty goals</th>\n      <th>Penalties not scored</th>\n      <th>...</th>\n      <th>Saves made</th>\n      <th>Saves-to-shots ratio</th>\n      <th>Fouls Won</th>\n      <th>Fouls Conceded</th>\n      <th>Offsides</th>\n      <th>Yellow Cards</th>\n      <th>Red Cards</th>\n      <th>Subs on</th>\n      <th>Subs off</th>\n      <th>Players Used</th>\n    </tr>\n  </thead>\n  <tbody>\n    <tr>\n      <th>5</th>\n      <td>Germany</td>\n      <td>10</td>\n      <td>32</td>\n      <td>32</td>\n      <td>47.8%</td>\n      <td>15.6%</td>\n      <td>80</td>\n      <td>2</td>\n      <td>1</td>\n      <td>0</td>\n      <td>...</td>\n      <td>10</td>\n      <td>62.6%</td>\n      <td>63</td>\n      <td>49</td>\n      <td>12</td>\n      <td>4</td>\n      <td>0</td>\n      <td>15</td>\n      <td>15</td>\n      <td>17</td>\n    </tr>\n    <tr>\n      <th>13</th>\n      <td>Spain</td>\n      <td>12</td>\n      <td>42</td>\n      <td>33</td>\n      <td>55.9%</td>\n      <td>16.0%</td>\n      <td>100</td>\n      <td>0</td>\n      <td>1</td>\n      <td>0</td>\n      <td>...</td>\n      <td>15</td>\n      <td>93.8%</td>\n      <td>102</td>\n      <td>83</td>\n      <td>19</td>\n      <td>11</td>\n      <td>0</td>\n      <td>17</td>\n      <td>17</td>\n      <td>18</td>\n    </tr>\n  </tbody>\n</table>\n<p>2 rows × 35 columns</p>\n</div>"
     },
     "execution_count": 149,
     "metadata": {},
     "output_type": "execute_result"
    }
   ],
   "source": [
    "teams_with_many_goals = euro12.Goals > 6\n",
    "euro12[teams_with_many_goals]"
   ]
  },
  {
   "cell_type": "markdown",
   "id": "03aad66a",
   "metadata": {
    "pycharm": {
     "name": "#%% md\n"
    }
   },
   "source": [
    "### Step 11. Select the teams that start with G"
   ]
  },
  {
   "cell_type": "code",
   "execution_count": 150,
   "id": "874b15c3",
   "metadata": {
    "pycharm": {
     "name": "#%%\n"
    }
   },
   "outputs": [
    {
     "data": {
      "text/plain": "5    Germany\n6     Greece\nName: Team, dtype: object"
     },
     "execution_count": 150,
     "metadata": {},
     "output_type": "execute_result"
    }
   ],
   "source": [
    "teams_starting_with_g = euro12.Team.str.startswith(\"G\")\n",
    "euro12.Team[teams_starting_with_g]"
   ]
  },
  {
   "cell_type": "markdown",
   "id": "9ed901dd",
   "metadata": {
    "pycharm": {
     "name": "#%% md\n"
    }
   },
   "source": [
    "### Step 12. Select the first 7 columns"
   ]
  },
  {
   "cell_type": "code",
   "execution_count": 151,
   "id": "3f87316e",
   "metadata": {
    "pycharm": {
     "name": "#%%\n"
    }
   },
   "outputs": [
    {
     "data": {
      "text/plain": "                   Team  Goals  Shots on target  Shots off target  \\\n0               Croatia      4               13                12   \n1        Czech Republic      4               13                18   \n2               Denmark      4               10                10   \n3               England      5               11                18   \n4                France      3               22                24   \n5               Germany     10               32                32   \n6                Greece      5                8                18   \n7                 Italy      6               34                45   \n8           Netherlands      2               12                36   \n9                Poland      2               15                23   \n10             Portugal      6               22                42   \n11  Republic of Ireland      1                7                12   \n12               Russia      5                9                31   \n13                Spain     12               42                33   \n14               Sweden      5               17                19   \n15              Ukraine      2                7                26   \n\n   Shooting Accuracy % Goals-to-shots  Total shots (inc. Blocked)  \n0              51.9%            16.0%                          32  \n1              41.9%            12.9%                          39  \n2              50.0%            20.0%                          27  \n3              50.0%            17.2%                          40  \n4              37.9%             6.5%                          65  \n5              47.8%            15.6%                          80  \n6              30.7%            19.2%                          32  \n7              43.0%             7.5%                         110  \n8              25.0%             4.1%                          60  \n9              39.4%             5.2%                          48  \n10             34.3%             9.3%                          82  \n11             36.8%             5.2%                          28  \n12             22.5%            12.5%                          59  \n13             55.9%            16.0%                         100  \n14             47.2%            13.8%                          39  \n15             21.2%             6.0%                          38  ",
      "text/html": "<div>\n<style scoped>\n    .dataframe tbody tr th:only-of-type {\n        vertical-align: middle;\n    }\n\n    .dataframe tbody tr th {\n        vertical-align: top;\n    }\n\n    .dataframe thead th {\n        text-align: right;\n    }\n</style>\n<table border=\"1\" class=\"dataframe\">\n  <thead>\n    <tr style=\"text-align: right;\">\n      <th></th>\n      <th>Team</th>\n      <th>Goals</th>\n      <th>Shots on target</th>\n      <th>Shots off target</th>\n      <th>Shooting Accuracy</th>\n      <th>% Goals-to-shots</th>\n      <th>Total shots (inc. Blocked)</th>\n    </tr>\n  </thead>\n  <tbody>\n    <tr>\n      <th>0</th>\n      <td>Croatia</td>\n      <td>4</td>\n      <td>13</td>\n      <td>12</td>\n      <td>51.9%</td>\n      <td>16.0%</td>\n      <td>32</td>\n    </tr>\n    <tr>\n      <th>1</th>\n      <td>Czech Republic</td>\n      <td>4</td>\n      <td>13</td>\n      <td>18</td>\n      <td>41.9%</td>\n      <td>12.9%</td>\n      <td>39</td>\n    </tr>\n    <tr>\n      <th>2</th>\n      <td>Denmark</td>\n      <td>4</td>\n      <td>10</td>\n      <td>10</td>\n      <td>50.0%</td>\n      <td>20.0%</td>\n      <td>27</td>\n    </tr>\n    <tr>\n      <th>3</th>\n      <td>England</td>\n      <td>5</td>\n      <td>11</td>\n      <td>18</td>\n      <td>50.0%</td>\n      <td>17.2%</td>\n      <td>40</td>\n    </tr>\n    <tr>\n      <th>4</th>\n      <td>France</td>\n      <td>3</td>\n      <td>22</td>\n      <td>24</td>\n      <td>37.9%</td>\n      <td>6.5%</td>\n      <td>65</td>\n    </tr>\n    <tr>\n      <th>5</th>\n      <td>Germany</td>\n      <td>10</td>\n      <td>32</td>\n      <td>32</td>\n      <td>47.8%</td>\n      <td>15.6%</td>\n      <td>80</td>\n    </tr>\n    <tr>\n      <th>6</th>\n      <td>Greece</td>\n      <td>5</td>\n      <td>8</td>\n      <td>18</td>\n      <td>30.7%</td>\n      <td>19.2%</td>\n      <td>32</td>\n    </tr>\n    <tr>\n      <th>7</th>\n      <td>Italy</td>\n      <td>6</td>\n      <td>34</td>\n      <td>45</td>\n      <td>43.0%</td>\n      <td>7.5%</td>\n      <td>110</td>\n    </tr>\n    <tr>\n      <th>8</th>\n      <td>Netherlands</td>\n      <td>2</td>\n      <td>12</td>\n      <td>36</td>\n      <td>25.0%</td>\n      <td>4.1%</td>\n      <td>60</td>\n    </tr>\n    <tr>\n      <th>9</th>\n      <td>Poland</td>\n      <td>2</td>\n      <td>15</td>\n      <td>23</td>\n      <td>39.4%</td>\n      <td>5.2%</td>\n      <td>48</td>\n    </tr>\n    <tr>\n      <th>10</th>\n      <td>Portugal</td>\n      <td>6</td>\n      <td>22</td>\n      <td>42</td>\n      <td>34.3%</td>\n      <td>9.3%</td>\n      <td>82</td>\n    </tr>\n    <tr>\n      <th>11</th>\n      <td>Republic of Ireland</td>\n      <td>1</td>\n      <td>7</td>\n      <td>12</td>\n      <td>36.8%</td>\n      <td>5.2%</td>\n      <td>28</td>\n    </tr>\n    <tr>\n      <th>12</th>\n      <td>Russia</td>\n      <td>5</td>\n      <td>9</td>\n      <td>31</td>\n      <td>22.5%</td>\n      <td>12.5%</td>\n      <td>59</td>\n    </tr>\n    <tr>\n      <th>13</th>\n      <td>Spain</td>\n      <td>12</td>\n      <td>42</td>\n      <td>33</td>\n      <td>55.9%</td>\n      <td>16.0%</td>\n      <td>100</td>\n    </tr>\n    <tr>\n      <th>14</th>\n      <td>Sweden</td>\n      <td>5</td>\n      <td>17</td>\n      <td>19</td>\n      <td>47.2%</td>\n      <td>13.8%</td>\n      <td>39</td>\n    </tr>\n    <tr>\n      <th>15</th>\n      <td>Ukraine</td>\n      <td>2</td>\n      <td>7</td>\n      <td>26</td>\n      <td>21.2%</td>\n      <td>6.0%</td>\n      <td>38</td>\n    </tr>\n  </tbody>\n</table>\n</div>"
     },
     "execution_count": 151,
     "metadata": {},
     "output_type": "execute_result"
    }
   ],
   "source": [
    "euro12.iloc[:, :7]"
   ]
  },
  {
   "cell_type": "markdown",
   "id": "15593c76",
   "metadata": {
    "pycharm": {
     "name": "#%% md\n"
    }
   },
   "source": [
    "### Step 13. Select all columns except the last 3."
   ]
  },
  {
   "cell_type": "code",
   "execution_count": 152,
   "id": "4c755212",
   "metadata": {
    "pycharm": {
     "name": "#%%\n"
    }
   },
   "outputs": [
    {
     "data": {
      "text/plain": "                   Team  Goals  Shots on target  Shots off target  \\\n0               Croatia      4               13                12   \n1        Czech Republic      4               13                18   \n2               Denmark      4               10                10   \n3               England      5               11                18   \n4                France      3               22                24   \n5               Germany     10               32                32   \n6                Greece      5                8                18   \n7                 Italy      6               34                45   \n8           Netherlands      2               12                36   \n9                Poland      2               15                23   \n10             Portugal      6               22                42   \n11  Republic of Ireland      1                7                12   \n12               Russia      5                9                31   \n13                Spain     12               42                33   \n14               Sweden      5               17                19   \n15              Ukraine      2                7                26   \n\n   Shooting Accuracy % Goals-to-shots  Total shots (inc. Blocked)  \\\n0              51.9%            16.0%                          32   \n1              41.9%            12.9%                          39   \n2              50.0%            20.0%                          27   \n3              50.0%            17.2%                          40   \n4              37.9%             6.5%                          65   \n5              47.8%            15.6%                          80   \n6              30.7%            19.2%                          32   \n7              43.0%             7.5%                         110   \n8              25.0%             4.1%                          60   \n9              39.4%             5.2%                          48   \n10             34.3%             9.3%                          82   \n11             36.8%             5.2%                          28   \n12             22.5%            12.5%                          59   \n13             55.9%            16.0%                         100   \n14             47.2%            13.8%                          39   \n15             21.2%             6.0%                          38   \n\n    Hit Woodwork  Penalty goals  Penalties not scored  ...  Clean Sheets  \\\n0              0              0                     0  ...             0   \n1              0              0                     0  ...             1   \n2              1              0                     0  ...             1   \n3              0              0                     0  ...             2   \n4              1              0                     0  ...             1   \n5              2              1                     0  ...             1   \n6              1              1                     1  ...             1   \n7              2              0                     0  ...             2   \n8              2              0                     0  ...             0   \n9              0              0                     0  ...             0   \n10             6              0                     0  ...             2   \n11             0              0                     0  ...             0   \n12             2              0                     0  ...             0   \n13             0              1                     0  ...             5   \n14             3              0                     0  ...             1   \n15             0              0                     0  ...             0   \n\n    Blocks  Goals conceded Saves made  Saves-to-shots ratio  Fouls Won  \\\n0       10               3         13                 81.3%         41   \n1       10               6          9                 60.1%         53   \n2       10               5         10                 66.7%         25   \n3       29               3         22                 88.1%         43   \n4        7               5          6                 54.6%         36   \n5       11               6         10                 62.6%         63   \n6       23               7         13                 65.1%         67   \n7       18               7         20                 74.1%        101   \n8        9               5         12                 70.6%         35   \n9        8               3          6                 66.7%         48   \n10      11               4         10                 71.5%         73   \n11      23               9         17                 65.4%         43   \n12       8               3         10                 77.0%         34   \n13       8               1         15                 93.8%        102   \n14      12               5          8                 61.6%         35   \n15       4               4         13                 76.5%         48   \n\n    Fouls Conceded  Offsides  Yellow Cards  Red Cards  \n0               62         2             9          0  \n1               73         8             7          0  \n2               38         8             4          0  \n3               45         6             5          0  \n4               51         5             6          0  \n5               49        12             4          0  \n6               48        12             9          1  \n7               89        16            16          0  \n8               30         3             5          0  \n9               56         3             7          1  \n10              90        10            12          0  \n11              51        11             6          1  \n12              43         4             6          0  \n13              83        19            11          0  \n14              51         7             7          0  \n15              31         4             5          0  \n\n[16 rows x 32 columns]",
      "text/html": "<div>\n<style scoped>\n    .dataframe tbody tr th:only-of-type {\n        vertical-align: middle;\n    }\n\n    .dataframe tbody tr th {\n        vertical-align: top;\n    }\n\n    .dataframe thead th {\n        text-align: right;\n    }\n</style>\n<table border=\"1\" class=\"dataframe\">\n  <thead>\n    <tr style=\"text-align: right;\">\n      <th></th>\n      <th>Team</th>\n      <th>Goals</th>\n      <th>Shots on target</th>\n      <th>Shots off target</th>\n      <th>Shooting Accuracy</th>\n      <th>% Goals-to-shots</th>\n      <th>Total shots (inc. Blocked)</th>\n      <th>Hit Woodwork</th>\n      <th>Penalty goals</th>\n      <th>Penalties not scored</th>\n      <th>...</th>\n      <th>Clean Sheets</th>\n      <th>Blocks</th>\n      <th>Goals conceded</th>\n      <th>Saves made</th>\n      <th>Saves-to-shots ratio</th>\n      <th>Fouls Won</th>\n      <th>Fouls Conceded</th>\n      <th>Offsides</th>\n      <th>Yellow Cards</th>\n      <th>Red Cards</th>\n    </tr>\n  </thead>\n  <tbody>\n    <tr>\n      <th>0</th>\n      <td>Croatia</td>\n      <td>4</td>\n      <td>13</td>\n      <td>12</td>\n      <td>51.9%</td>\n      <td>16.0%</td>\n      <td>32</td>\n      <td>0</td>\n      <td>0</td>\n      <td>0</td>\n      <td>...</td>\n      <td>0</td>\n      <td>10</td>\n      <td>3</td>\n      <td>13</td>\n      <td>81.3%</td>\n      <td>41</td>\n      <td>62</td>\n      <td>2</td>\n      <td>9</td>\n      <td>0</td>\n    </tr>\n    <tr>\n      <th>1</th>\n      <td>Czech Republic</td>\n      <td>4</td>\n      <td>13</td>\n      <td>18</td>\n      <td>41.9%</td>\n      <td>12.9%</td>\n      <td>39</td>\n      <td>0</td>\n      <td>0</td>\n      <td>0</td>\n      <td>...</td>\n      <td>1</td>\n      <td>10</td>\n      <td>6</td>\n      <td>9</td>\n      <td>60.1%</td>\n      <td>53</td>\n      <td>73</td>\n      <td>8</td>\n      <td>7</td>\n      <td>0</td>\n    </tr>\n    <tr>\n      <th>2</th>\n      <td>Denmark</td>\n      <td>4</td>\n      <td>10</td>\n      <td>10</td>\n      <td>50.0%</td>\n      <td>20.0%</td>\n      <td>27</td>\n      <td>1</td>\n      <td>0</td>\n      <td>0</td>\n      <td>...</td>\n      <td>1</td>\n      <td>10</td>\n      <td>5</td>\n      <td>10</td>\n      <td>66.7%</td>\n      <td>25</td>\n      <td>38</td>\n      <td>8</td>\n      <td>4</td>\n      <td>0</td>\n    </tr>\n    <tr>\n      <th>3</th>\n      <td>England</td>\n      <td>5</td>\n      <td>11</td>\n      <td>18</td>\n      <td>50.0%</td>\n      <td>17.2%</td>\n      <td>40</td>\n      <td>0</td>\n      <td>0</td>\n      <td>0</td>\n      <td>...</td>\n      <td>2</td>\n      <td>29</td>\n      <td>3</td>\n      <td>22</td>\n      <td>88.1%</td>\n      <td>43</td>\n      <td>45</td>\n      <td>6</td>\n      <td>5</td>\n      <td>0</td>\n    </tr>\n    <tr>\n      <th>4</th>\n      <td>France</td>\n      <td>3</td>\n      <td>22</td>\n      <td>24</td>\n      <td>37.9%</td>\n      <td>6.5%</td>\n      <td>65</td>\n      <td>1</td>\n      <td>0</td>\n      <td>0</td>\n      <td>...</td>\n      <td>1</td>\n      <td>7</td>\n      <td>5</td>\n      <td>6</td>\n      <td>54.6%</td>\n      <td>36</td>\n      <td>51</td>\n      <td>5</td>\n      <td>6</td>\n      <td>0</td>\n    </tr>\n    <tr>\n      <th>5</th>\n      <td>Germany</td>\n      <td>10</td>\n      <td>32</td>\n      <td>32</td>\n      <td>47.8%</td>\n      <td>15.6%</td>\n      <td>80</td>\n      <td>2</td>\n      <td>1</td>\n      <td>0</td>\n      <td>...</td>\n      <td>1</td>\n      <td>11</td>\n      <td>6</td>\n      <td>10</td>\n      <td>62.6%</td>\n      <td>63</td>\n      <td>49</td>\n      <td>12</td>\n      <td>4</td>\n      <td>0</td>\n    </tr>\n    <tr>\n      <th>6</th>\n      <td>Greece</td>\n      <td>5</td>\n      <td>8</td>\n      <td>18</td>\n      <td>30.7%</td>\n      <td>19.2%</td>\n      <td>32</td>\n      <td>1</td>\n      <td>1</td>\n      <td>1</td>\n      <td>...</td>\n      <td>1</td>\n      <td>23</td>\n      <td>7</td>\n      <td>13</td>\n      <td>65.1%</td>\n      <td>67</td>\n      <td>48</td>\n      <td>12</td>\n      <td>9</td>\n      <td>1</td>\n    </tr>\n    <tr>\n      <th>7</th>\n      <td>Italy</td>\n      <td>6</td>\n      <td>34</td>\n      <td>45</td>\n      <td>43.0%</td>\n      <td>7.5%</td>\n      <td>110</td>\n      <td>2</td>\n      <td>0</td>\n      <td>0</td>\n      <td>...</td>\n      <td>2</td>\n      <td>18</td>\n      <td>7</td>\n      <td>20</td>\n      <td>74.1%</td>\n      <td>101</td>\n      <td>89</td>\n      <td>16</td>\n      <td>16</td>\n      <td>0</td>\n    </tr>\n    <tr>\n      <th>8</th>\n      <td>Netherlands</td>\n      <td>2</td>\n      <td>12</td>\n      <td>36</td>\n      <td>25.0%</td>\n      <td>4.1%</td>\n      <td>60</td>\n      <td>2</td>\n      <td>0</td>\n      <td>0</td>\n      <td>...</td>\n      <td>0</td>\n      <td>9</td>\n      <td>5</td>\n      <td>12</td>\n      <td>70.6%</td>\n      <td>35</td>\n      <td>30</td>\n      <td>3</td>\n      <td>5</td>\n      <td>0</td>\n    </tr>\n    <tr>\n      <th>9</th>\n      <td>Poland</td>\n      <td>2</td>\n      <td>15</td>\n      <td>23</td>\n      <td>39.4%</td>\n      <td>5.2%</td>\n      <td>48</td>\n      <td>0</td>\n      <td>0</td>\n      <td>0</td>\n      <td>...</td>\n      <td>0</td>\n      <td>8</td>\n      <td>3</td>\n      <td>6</td>\n      <td>66.7%</td>\n      <td>48</td>\n      <td>56</td>\n      <td>3</td>\n      <td>7</td>\n      <td>1</td>\n    </tr>\n    <tr>\n      <th>10</th>\n      <td>Portugal</td>\n      <td>6</td>\n      <td>22</td>\n      <td>42</td>\n      <td>34.3%</td>\n      <td>9.3%</td>\n      <td>82</td>\n      <td>6</td>\n      <td>0</td>\n      <td>0</td>\n      <td>...</td>\n      <td>2</td>\n      <td>11</td>\n      <td>4</td>\n      <td>10</td>\n      <td>71.5%</td>\n      <td>73</td>\n      <td>90</td>\n      <td>10</td>\n      <td>12</td>\n      <td>0</td>\n    </tr>\n    <tr>\n      <th>11</th>\n      <td>Republic of Ireland</td>\n      <td>1</td>\n      <td>7</td>\n      <td>12</td>\n      <td>36.8%</td>\n      <td>5.2%</td>\n      <td>28</td>\n      <td>0</td>\n      <td>0</td>\n      <td>0</td>\n      <td>...</td>\n      <td>0</td>\n      <td>23</td>\n      <td>9</td>\n      <td>17</td>\n      <td>65.4%</td>\n      <td>43</td>\n      <td>51</td>\n      <td>11</td>\n      <td>6</td>\n      <td>1</td>\n    </tr>\n    <tr>\n      <th>12</th>\n      <td>Russia</td>\n      <td>5</td>\n      <td>9</td>\n      <td>31</td>\n      <td>22.5%</td>\n      <td>12.5%</td>\n      <td>59</td>\n      <td>2</td>\n      <td>0</td>\n      <td>0</td>\n      <td>...</td>\n      <td>0</td>\n      <td>8</td>\n      <td>3</td>\n      <td>10</td>\n      <td>77.0%</td>\n      <td>34</td>\n      <td>43</td>\n      <td>4</td>\n      <td>6</td>\n      <td>0</td>\n    </tr>\n    <tr>\n      <th>13</th>\n      <td>Spain</td>\n      <td>12</td>\n      <td>42</td>\n      <td>33</td>\n      <td>55.9%</td>\n      <td>16.0%</td>\n      <td>100</td>\n      <td>0</td>\n      <td>1</td>\n      <td>0</td>\n      <td>...</td>\n      <td>5</td>\n      <td>8</td>\n      <td>1</td>\n      <td>15</td>\n      <td>93.8%</td>\n      <td>102</td>\n      <td>83</td>\n      <td>19</td>\n      <td>11</td>\n      <td>0</td>\n    </tr>\n    <tr>\n      <th>14</th>\n      <td>Sweden</td>\n      <td>5</td>\n      <td>17</td>\n      <td>19</td>\n      <td>47.2%</td>\n      <td>13.8%</td>\n      <td>39</td>\n      <td>3</td>\n      <td>0</td>\n      <td>0</td>\n      <td>...</td>\n      <td>1</td>\n      <td>12</td>\n      <td>5</td>\n      <td>8</td>\n      <td>61.6%</td>\n      <td>35</td>\n      <td>51</td>\n      <td>7</td>\n      <td>7</td>\n      <td>0</td>\n    </tr>\n    <tr>\n      <th>15</th>\n      <td>Ukraine</td>\n      <td>2</td>\n      <td>7</td>\n      <td>26</td>\n      <td>21.2%</td>\n      <td>6.0%</td>\n      <td>38</td>\n      <td>0</td>\n      <td>0</td>\n      <td>0</td>\n      <td>...</td>\n      <td>0</td>\n      <td>4</td>\n      <td>4</td>\n      <td>13</td>\n      <td>76.5%</td>\n      <td>48</td>\n      <td>31</td>\n      <td>4</td>\n      <td>5</td>\n      <td>0</td>\n    </tr>\n  </tbody>\n</table>\n<p>16 rows × 32 columns</p>\n</div>"
     },
     "execution_count": 152,
     "metadata": {},
     "output_type": "execute_result"
    }
   ],
   "source": [
    "euro12.iloc[:, :-3]"
   ]
  },
  {
   "cell_type": "markdown",
   "id": "bd96dc64",
   "metadata": {
    "pycharm": {
     "name": "#%% md\n"
    }
   },
   "source": [
    "### Step 14. Present only the Shooting Accuracy from England, Italy and Russia"
   ]
  },
  {
   "cell_type": "code",
   "execution_count": 153,
   "id": "aa451946",
   "metadata": {
    "pycharm": {
     "name": "#%%\n"
    }
   },
   "outputs": [
    {
     "data": {
      "text/plain": "       Team Shooting Accuracy\n3   England             50.0%\n7     Italy             43.0%\n12   Russia             22.5%",
      "text/html": "<div>\n<style scoped>\n    .dataframe tbody tr th:only-of-type {\n        vertical-align: middle;\n    }\n\n    .dataframe tbody tr th {\n        vertical-align: top;\n    }\n\n    .dataframe thead th {\n        text-align: right;\n    }\n</style>\n<table border=\"1\" class=\"dataframe\">\n  <thead>\n    <tr style=\"text-align: right;\">\n      <th></th>\n      <th>Team</th>\n      <th>Shooting Accuracy</th>\n    </tr>\n  </thead>\n  <tbody>\n    <tr>\n      <th>3</th>\n      <td>England</td>\n      <td>50.0%</td>\n    </tr>\n    <tr>\n      <th>7</th>\n      <td>Italy</td>\n      <td>43.0%</td>\n    </tr>\n    <tr>\n      <th>12</th>\n      <td>Russia</td>\n      <td>22.5%</td>\n    </tr>\n  </tbody>\n</table>\n</div>"
     },
     "execution_count": 153,
     "metadata": {},
     "output_type": "execute_result"
    }
   ],
   "source": [
    "countries = [\"England\", \"Italy\", \"Russia\"]\n",
    "country_filter = euro12[\"Team\"].isin(countries)\n",
    "euro12.loc[country_filter, [\"Team\", \"Shooting Accuracy\"]]"
   ]
  },
  {
   "cell_type": "markdown",
   "id": "56ffa63b",
   "metadata": {
    "pycharm": {
     "name": "#%% md\n"
    }
   },
   "source": [
    "## Section 3: Grouping"
   ]
  },
  {
   "cell_type": "markdown",
   "id": "907efa1f",
   "metadata": {
    "pycharm": {
     "name": "#%% md\n"
    }
   },
   "source": [
    "### Step 1. Import the necessary libraries"
   ]
  },
  {
   "cell_type": "code",
   "execution_count": 156,
   "id": "60724404",
   "metadata": {
    "pycharm": {
     "name": "#%%\n"
    }
   },
   "outputs": [],
   "source": [
    "import pandas as pd"
   ]
  },
  {
   "cell_type": "markdown",
   "id": "08d87139",
   "metadata": {
    "pycharm": {
     "name": "#%% md\n"
    }
   },
   "source": [
    "### Step 2. Import the dataset from this [address](https://raw.githubusercontent.com/justmarkham/DAT8/master/data/drinks.csv)."
   ]
  },
  {
   "cell_type": "code",
   "execution_count": 159,
   "outputs": [],
   "source": [
    "url_drinks = \"https://raw.githubusercontent.com/justmarkham/DAT8/master/data/drinks.csv\""
   ],
   "metadata": {
    "collapsed": false,
    "pycharm": {
     "name": "#%%\n"
    }
   }
  },
  {
   "cell_type": "markdown",
   "id": "ec6872ce",
   "metadata": {
    "pycharm": {
     "name": "#%% md\n"
    }
   },
   "source": [
    "### Step 3. Assign it to a variable called drinks."
   ]
  },
  {
   "cell_type": "code",
   "execution_count": 160,
   "id": "4839ebdc",
   "metadata": {
    "pycharm": {
     "name": "#%%\n"
    }
   },
   "outputs": [],
   "source": [
    "drinks = pd.read_csv(url_drinks)"
   ]
  },
  {
   "cell_type": "markdown",
   "id": "f5797352",
   "metadata": {
    "pycharm": {
     "name": "#%% md\n"
    }
   },
   "source": [
    "### Step 4. Which continent drinks more beer on average?"
   ]
  },
  {
   "cell_type": "code",
   "execution_count": 168,
   "id": "9598d104",
   "metadata": {
    "pycharm": {
     "name": "#%%\n"
    }
   },
   "outputs": [
    {
     "data": {
      "text/plain": "continent\nEU    193.777778\nName: beer_servings, dtype: float64"
     },
     "execution_count": 168,
     "metadata": {},
     "output_type": "execute_result"
    }
   ],
   "source": [
    "continents = drinks.groupby([\"continent\"])\n",
    "top_beer_drinkers = continents[\"beer_servings\"].mean().sort_values(ascending=False)\n",
    "top_beer_drinkers.iloc[:1]"
   ]
  },
  {
   "cell_type": "markdown",
   "id": "7f6cc612",
   "metadata": {
    "pycharm": {
     "name": "#%% md\n"
    }
   },
   "source": [
    "### Step 5. For each continent print the statistics for wine consumption."
   ]
  },
  {
   "cell_type": "code",
   "execution_count": 169,
   "id": "1ef89cb2",
   "metadata": {
    "pycharm": {
     "name": "#%%\n"
    }
   },
   "outputs": [
    {
     "data": {
      "text/plain": "           count        mean        std  min   25%    50%     75%    max\ncontinent                                                               \nAF          53.0   16.264151  38.846419  0.0   1.0    2.0   13.00  233.0\nAS          44.0    9.068182  21.667034  0.0   0.0    1.0    8.00  123.0\nEU          45.0  142.222222  97.421738  0.0  59.0  128.0  195.00  370.0\nOC          16.0   35.625000  64.555790  0.0   1.0    8.5   23.25  212.0\nSA          12.0   62.416667  88.620189  1.0   3.0   12.0   98.50  221.0",
      "text/html": "<div>\n<style scoped>\n    .dataframe tbody tr th:only-of-type {\n        vertical-align: middle;\n    }\n\n    .dataframe tbody tr th {\n        vertical-align: top;\n    }\n\n    .dataframe thead th {\n        text-align: right;\n    }\n</style>\n<table border=\"1\" class=\"dataframe\">\n  <thead>\n    <tr style=\"text-align: right;\">\n      <th></th>\n      <th>count</th>\n      <th>mean</th>\n      <th>std</th>\n      <th>min</th>\n      <th>25%</th>\n      <th>50%</th>\n      <th>75%</th>\n      <th>max</th>\n    </tr>\n    <tr>\n      <th>continent</th>\n      <th></th>\n      <th></th>\n      <th></th>\n      <th></th>\n      <th></th>\n      <th></th>\n      <th></th>\n      <th></th>\n    </tr>\n  </thead>\n  <tbody>\n    <tr>\n      <th>AF</th>\n      <td>53.0</td>\n      <td>16.264151</td>\n      <td>38.846419</td>\n      <td>0.0</td>\n      <td>1.0</td>\n      <td>2.0</td>\n      <td>13.00</td>\n      <td>233.0</td>\n    </tr>\n    <tr>\n      <th>AS</th>\n      <td>44.0</td>\n      <td>9.068182</td>\n      <td>21.667034</td>\n      <td>0.0</td>\n      <td>0.0</td>\n      <td>1.0</td>\n      <td>8.00</td>\n      <td>123.0</td>\n    </tr>\n    <tr>\n      <th>EU</th>\n      <td>45.0</td>\n      <td>142.222222</td>\n      <td>97.421738</td>\n      <td>0.0</td>\n      <td>59.0</td>\n      <td>128.0</td>\n      <td>195.00</td>\n      <td>370.0</td>\n    </tr>\n    <tr>\n      <th>OC</th>\n      <td>16.0</td>\n      <td>35.625000</td>\n      <td>64.555790</td>\n      <td>0.0</td>\n      <td>1.0</td>\n      <td>8.5</td>\n      <td>23.25</td>\n      <td>212.0</td>\n    </tr>\n    <tr>\n      <th>SA</th>\n      <td>12.0</td>\n      <td>62.416667</td>\n      <td>88.620189</td>\n      <td>1.0</td>\n      <td>3.0</td>\n      <td>12.0</td>\n      <td>98.50</td>\n      <td>221.0</td>\n    </tr>\n  </tbody>\n</table>\n</div>"
     },
     "execution_count": 169,
     "metadata": {},
     "output_type": "execute_result"
    }
   ],
   "source": [
    "continents.wine_servings.describe()"
   ]
  },
  {
   "cell_type": "markdown",
   "id": "fb845470",
   "metadata": {
    "pycharm": {
     "name": "#%% md\n"
    }
   },
   "source": [
    "### Step 6. Print the mean alcohol consumption per continent for every column"
   ]
  },
  {
   "cell_type": "code",
   "execution_count": 173,
   "id": "4e588a9d",
   "metadata": {
    "pycharm": {
     "name": "#%%\n"
    }
   },
   "outputs": [
    {
     "name": "stderr",
     "output_type": "stream",
     "text": [
      "C:\\Users\\win\\AppData\\Local\\Temp\\ipykernel_14236\\3697990228.py:1: FutureWarning: Indexing with multiple keys (implicitly converted to a tuple of keys) will be deprecated, use a list instead.\n",
      "  continents[\"beer_servings\", \"spirit_servings\", \"wine_servings\", \"total_litres_of_pure_alcohol\"].mean()\n"
     ]
    },
    {
     "data": {
      "text/plain": "           beer_servings  spirit_servings  wine_servings  \\\ncontinent                                                  \nAF             61.471698        16.339623      16.264151   \nAS             37.045455        60.840909       9.068182   \nEU            193.777778       132.555556     142.222222   \nOC             89.687500        58.437500      35.625000   \nSA            175.083333       114.750000      62.416667   \n\n           total_litres_of_pure_alcohol  \ncontinent                                \nAF                             3.007547  \nAS                             2.170455  \nEU                             8.617778  \nOC                             3.381250  \nSA                             6.308333  ",
      "text/html": "<div>\n<style scoped>\n    .dataframe tbody tr th:only-of-type {\n        vertical-align: middle;\n    }\n\n    .dataframe tbody tr th {\n        vertical-align: top;\n    }\n\n    .dataframe thead th {\n        text-align: right;\n    }\n</style>\n<table border=\"1\" class=\"dataframe\">\n  <thead>\n    <tr style=\"text-align: right;\">\n      <th></th>\n      <th>beer_servings</th>\n      <th>spirit_servings</th>\n      <th>wine_servings</th>\n      <th>total_litres_of_pure_alcohol</th>\n    </tr>\n    <tr>\n      <th>continent</th>\n      <th></th>\n      <th></th>\n      <th></th>\n      <th></th>\n    </tr>\n  </thead>\n  <tbody>\n    <tr>\n      <th>AF</th>\n      <td>61.471698</td>\n      <td>16.339623</td>\n      <td>16.264151</td>\n      <td>3.007547</td>\n    </tr>\n    <tr>\n      <th>AS</th>\n      <td>37.045455</td>\n      <td>60.840909</td>\n      <td>9.068182</td>\n      <td>2.170455</td>\n    </tr>\n    <tr>\n      <th>EU</th>\n      <td>193.777778</td>\n      <td>132.555556</td>\n      <td>142.222222</td>\n      <td>8.617778</td>\n    </tr>\n    <tr>\n      <th>OC</th>\n      <td>89.687500</td>\n      <td>58.437500</td>\n      <td>35.625000</td>\n      <td>3.381250</td>\n    </tr>\n    <tr>\n      <th>SA</th>\n      <td>175.083333</td>\n      <td>114.750000</td>\n      <td>62.416667</td>\n      <td>6.308333</td>\n    </tr>\n  </tbody>\n</table>\n</div>"
     },
     "execution_count": 173,
     "metadata": {},
     "output_type": "execute_result"
    }
   ],
   "source": [
    "continents[\"beer_servings\", \"spirit_servings\", \"wine_servings\", \"total_litres_of_pure_alcohol\"].mean()"
   ]
  },
  {
   "cell_type": "markdown",
   "id": "e9434abc",
   "metadata": {
    "pycharm": {
     "name": "#%% md\n"
    }
   },
   "source": [
    "### Step 7. Print the median alcohol consumption per continent for every column"
   ]
  },
  {
   "cell_type": "code",
   "execution_count": 174,
   "id": "34a57ae2",
   "metadata": {
    "pycharm": {
     "name": "#%%\n"
    }
   },
   "outputs": [
    {
     "name": "stderr",
     "output_type": "stream",
     "text": [
      "C:\\Users\\win\\AppData\\Local\\Temp\\ipykernel_14236\\1999791939.py:1: FutureWarning: Indexing with multiple keys (implicitly converted to a tuple of keys) will be deprecated, use a list instead.\n",
      "  continents[\"beer_servings\", \"spirit_servings\", \"wine_servings\", \"total_litres_of_pure_alcohol\"].median()\n"
     ]
    },
    {
     "data": {
      "text/plain": "           beer_servings  spirit_servings  wine_servings  \\\ncontinent                                                  \nAF                  32.0              3.0            2.0   \nAS                  17.5             16.0            1.0   \nEU                 219.0            122.0          128.0   \nOC                  52.5             37.0            8.5   \nSA                 162.5            108.5           12.0   \n\n           total_litres_of_pure_alcohol  \ncontinent                                \nAF                                 2.30  \nAS                                 1.20  \nEU                                10.00  \nOC                                 1.75  \nSA                                 6.85  ",
      "text/html": "<div>\n<style scoped>\n    .dataframe tbody tr th:only-of-type {\n        vertical-align: middle;\n    }\n\n    .dataframe tbody tr th {\n        vertical-align: top;\n    }\n\n    .dataframe thead th {\n        text-align: right;\n    }\n</style>\n<table border=\"1\" class=\"dataframe\">\n  <thead>\n    <tr style=\"text-align: right;\">\n      <th></th>\n      <th>beer_servings</th>\n      <th>spirit_servings</th>\n      <th>wine_servings</th>\n      <th>total_litres_of_pure_alcohol</th>\n    </tr>\n    <tr>\n      <th>continent</th>\n      <th></th>\n      <th></th>\n      <th></th>\n      <th></th>\n    </tr>\n  </thead>\n  <tbody>\n    <tr>\n      <th>AF</th>\n      <td>32.0</td>\n      <td>3.0</td>\n      <td>2.0</td>\n      <td>2.30</td>\n    </tr>\n    <tr>\n      <th>AS</th>\n      <td>17.5</td>\n      <td>16.0</td>\n      <td>1.0</td>\n      <td>1.20</td>\n    </tr>\n    <tr>\n      <th>EU</th>\n      <td>219.0</td>\n      <td>122.0</td>\n      <td>128.0</td>\n      <td>10.00</td>\n    </tr>\n    <tr>\n      <th>OC</th>\n      <td>52.5</td>\n      <td>37.0</td>\n      <td>8.5</td>\n      <td>1.75</td>\n    </tr>\n    <tr>\n      <th>SA</th>\n      <td>162.5</td>\n      <td>108.5</td>\n      <td>12.0</td>\n      <td>6.85</td>\n    </tr>\n  </tbody>\n</table>\n</div>"
     },
     "execution_count": 174,
     "metadata": {},
     "output_type": "execute_result"
    }
   ],
   "source": [
    "continents[\"beer_servings\", \"spirit_servings\", \"wine_servings\", \"total_litres_of_pure_alcohol\"].median()"
   ]
  },
  {
   "cell_type": "markdown",
   "id": "a0ab2bd5",
   "metadata": {
    "pycharm": {
     "name": "#%% md\n"
    }
   },
   "source": [
    "### Step 8. Print the mean, min and max values for spirit consumption.\n",
    "#### This time output a DataFrame"
   ]
  },
  {
   "cell_type": "code",
   "execution_count": 177,
   "id": "93d9779b",
   "metadata": {
    "pycharm": {
     "name": "#%%\n"
    }
   },
   "outputs": [
    {
     "data": {
      "text/plain": "                 mean   min    max\ncontinent                         \nAF          16.339623   0.0  152.0\nAS          60.840909   0.0  326.0\nEU         132.555556   0.0  373.0\nOC          58.437500   0.0  254.0\nSA         114.750000  25.0  302.0",
      "text/html": "<div>\n<style scoped>\n    .dataframe tbody tr th:only-of-type {\n        vertical-align: middle;\n    }\n\n    .dataframe tbody tr th {\n        vertical-align: top;\n    }\n\n    .dataframe thead th {\n        text-align: right;\n    }\n</style>\n<table border=\"1\" class=\"dataframe\">\n  <thead>\n    <tr style=\"text-align: right;\">\n      <th></th>\n      <th>mean</th>\n      <th>min</th>\n      <th>max</th>\n    </tr>\n    <tr>\n      <th>continent</th>\n      <th></th>\n      <th></th>\n      <th></th>\n    </tr>\n  </thead>\n  <tbody>\n    <tr>\n      <th>AF</th>\n      <td>16.339623</td>\n      <td>0.0</td>\n      <td>152.0</td>\n    </tr>\n    <tr>\n      <th>AS</th>\n      <td>60.840909</td>\n      <td>0.0</td>\n      <td>326.0</td>\n    </tr>\n    <tr>\n      <th>EU</th>\n      <td>132.555556</td>\n      <td>0.0</td>\n      <td>373.0</td>\n    </tr>\n    <tr>\n      <th>OC</th>\n      <td>58.437500</td>\n      <td>0.0</td>\n      <td>254.0</td>\n    </tr>\n    <tr>\n      <th>SA</th>\n      <td>114.750000</td>\n      <td>25.0</td>\n      <td>302.0</td>\n    </tr>\n  </tbody>\n</table>\n</div>"
     },
     "execution_count": 177,
     "metadata": {},
     "output_type": "execute_result"
    }
   ],
   "source": [
    "continents[\"spirit_servings\"].describe()[[\"mean\", \"min\", \"max\"]]"
   ]
  },
  {
   "cell_type": "markdown",
   "id": "9fe6c338",
   "metadata": {
    "pycharm": {
     "name": "#%% md\n"
    }
   },
   "source": [
    "## Section 4: Apply"
   ]
  },
  {
   "cell_type": "markdown",
   "id": "2ac338e2",
   "metadata": {
    "pycharm": {
     "name": "#%% md\n"
    }
   },
   "source": [
    "### Step 1. Import the necessary libraries"
   ]
  },
  {
   "cell_type": "code",
   "execution_count": 153,
   "id": "55a7863f",
   "metadata": {
    "pycharm": {
     "name": "#%%\n"
    }
   },
   "outputs": [],
   "source": [
    "import pandas as pd"
   ]
  },
  {
   "cell_type": "markdown",
   "id": "d7d4e41b",
   "metadata": {
    "pycharm": {
     "name": "#%% md\n"
    }
   },
   "source": [
    "### Step 2. Import the dataset from this [address](https://raw.githubusercontent.com/guipsamora/pandas_exercises/master/04_Apply/US_Crime_Rates/US_Crime_Rates_1960_2014.csv)."
   ]
  },
  {
   "cell_type": "code",
   "execution_count": 180,
   "outputs": [],
   "source": [
    "url_crime = \"https://raw.githubusercontent.com/guipsamora/pandas_exercises/master/04_Apply/US_Crime_Rates/US_Crime_Rates_1960_2014.csv\""
   ],
   "metadata": {
    "collapsed": false,
    "pycharm": {
     "name": "#%%\n"
    }
   }
  },
  {
   "cell_type": "markdown",
   "id": "c35b9589",
   "metadata": {
    "pycharm": {
     "name": "#%% md\n"
    }
   },
   "source": [
    "### Step 3. Assign it to a variable called crime."
   ]
  },
  {
   "cell_type": "code",
   "execution_count": 181,
   "id": "279afa18",
   "metadata": {
    "pycharm": {
     "name": "#%%\n"
    }
   },
   "outputs": [],
   "source": [
    "crime = pd.read_csv(url_crime)"
   ]
  },
  {
   "cell_type": "markdown",
   "id": "8af7de8e",
   "metadata": {
    "pycharm": {
     "name": "#%% md\n"
    }
   },
   "source": [
    "### Step 4. What is the type of the columns?"
   ]
  },
  {
   "cell_type": "code",
   "execution_count": 182,
   "id": "d6b6d061",
   "metadata": {
    "pycharm": {
     "name": "#%%\n"
    }
   },
   "outputs": [
    {
     "data": {
      "text/plain": "Year                  int64\nPopulation            int64\nTotal                 int64\nViolent               int64\nProperty              int64\nMurder                int64\nForcible_Rape         int64\nRobbery               int64\nAggravated_assault    int64\nBurglary              int64\nLarceny_Theft         int64\nVehicle_Theft         int64\ndtype: object"
     },
     "execution_count": 182,
     "metadata": {},
     "output_type": "execute_result"
    }
   ],
   "source": [
    "crime.dtypes"
   ]
  },
  {
   "cell_type": "markdown",
   "id": "0c0eda69",
   "metadata": {
    "pycharm": {
     "name": "#%% md\n"
    }
   },
   "source": [
    "##### Have you noticed that the type of Year is int64. But pandas has a different type to work with Time Series. Let's see it now.\n",
    "\n",
    "### Step 5. Convert the type of the column Year to datetime64"
   ]
  },
  {
   "cell_type": "code",
   "execution_count": 183,
   "id": "a7ddd5b4",
   "metadata": {
    "pycharm": {
     "name": "#%%\n"
    }
   },
   "outputs": [
    {
     "data": {
      "text/plain": "Year                  datetime64[ns]\nPopulation                     int64\nTotal                          int64\nViolent                        int64\nProperty                       int64\nMurder                         int64\nForcible_Rape                  int64\nRobbery                        int64\nAggravated_assault             int64\nBurglary                       int64\nLarceny_Theft                  int64\nVehicle_Theft                  int64\ndtype: object"
     },
     "execution_count": 183,
     "metadata": {},
     "output_type": "execute_result"
    }
   ],
   "source": [
    "crime[\"Year\"] = pd.to_datetime(crime[\"Year\"], format=\"%Y\")\n",
    "crime.dtypes"
   ]
  },
  {
   "cell_type": "markdown",
   "id": "a7bbcef2",
   "metadata": {
    "pycharm": {
     "name": "#%% md\n"
    }
   },
   "source": [
    "### Step 6. Set the Year column as the index of the dataframe"
   ]
  },
  {
   "cell_type": "code",
   "execution_count": 184,
   "id": "00dedda7",
   "metadata": {
    "pycharm": {
     "name": "#%%\n"
    }
   },
   "outputs": [
    {
     "data": {
      "text/plain": "            Population     Total  Violent  Property  Murder  Forcible_Rape  \\\nYear                                                                         \n1960-01-01   179323175   3384200   288460   3095700    9110          17190   \n1961-01-01   182992000   3488000   289390   3198600    8740          17220   \n1962-01-01   185771000   3752200   301510   3450700    8530          17550   \n1963-01-01   188483000   4109500   316970   3792500    8640          17650   \n1964-01-01   191141000   4564600   364220   4200400    9360          21420   \n1965-01-01   193526000   4739400   387390   4352000    9960          23410   \n1966-01-01   195576000   5223500   430180   4793300   11040          25820   \n1967-01-01   197457000   5903400   499930   5403500   12240          27620   \n1968-01-01   199399000   6720200   595010   6125200   13800          31670   \n1969-01-01   201385000   7410900   661870   6749000   14760          37170   \n1970-01-01   203235298   8098000   738820   7359200   16000          37990   \n1971-01-01   206212000   8588200   816500   7771700   17780          42260   \n1972-01-01   208230000   8248800   834900   7413900   18670          46850   \n1973-01-01   209851000   8718100   875910   7842200   19640          51400   \n1974-01-01   211392000  10253400   974720   9278700   20710          55400   \n1975-01-01   213124000  11292400  1039710  10252700   20510          56090   \n1976-01-01   214659000  11349700  1004210  10345500   18780          57080   \n1977-01-01   216332000  10984500  1029580   9955000   19120          63500   \n1978-01-01   218059000  11209000  1085550  10123400   19560          67610   \n1979-01-01   220099000  12249500  1208030  11041500   21460          76390   \n1980-01-01   225349264  13408300  1344520  12063700   23040          82990   \n1981-01-01   229146000  13423800  1361820  12061900   22520          82500   \n1982-01-01   231534000  12974400  1322390  11652000   21010          78770   \n1983-01-01   233981000  12108600  1258090  10850500   19310          78920   \n1984-01-01   236158000  11881800  1273280  10608500   18690          84230   \n1985-01-01   238740000  12431400  1328800  11102600   18980          88670   \n1986-01-01   240132887  13211869  1489169  11722700   20613          91459   \n1987-01-01   242282918  13508700  1483999  12024700   20096          91110   \n1988-01-01   245807000  13923100  1566220  12356900   20680          92490   \n1989-01-01   248239000  14251400  1646040  12605400   21500          94500   \n1990-01-01   248709873  14475600  1820130  12655500   23440         102560   \n1991-01-01   252177000  14872900  1911770  12961100   24700         106590   \n1992-01-01   255082000  14438200  1932270  12505900   23760         109060   \n1993-01-01   257908000  14144800  1926020  12218800   24530         106010   \n1994-01-01   260341000  13989500  1857670  12131900   23330         102220   \n1995-01-01   262755000  13862700  1798790  12063900   21610          97470   \n1996-01-01   265228572  13493863  1688540  11805300   19650          96250   \n1997-01-01   267637000  13194571  1634770  11558175   18208          96153   \n1998-01-01   270296000  12475634  1531044  10944590   16914          93103   \n1999-01-01   272690813  11634378  1426044  10208334   15522          89411   \n2000-01-01   281421906  11608072  1425486  10182586   15586          90178   \n2001-01-01   285317559  11876669  1439480  10437480   16037          90863   \n2002-01-01   287973924  11878954  1423677  10455277   16229          95235   \n2003-01-01   290690788  11826538  1383676  10442862   16528          93883   \n2004-01-01   293656842  11679474  1360088  10319386   16148          95089   \n2005-01-01   296507061  11565499  1390745  10174754   16740          94347   \n2006-01-01   299398484  11401511  1418043   9983568   17030          92757   \n2007-01-01   301621157  11251828  1408337   9843481   16929          90427   \n2008-01-01   304374846  11160543  1392628   9767915   16442          90479   \n2009-01-01   307006550  10762956  1325896   9337060   15399          89241   \n2010-01-01   309330219  10363873  1251248   9112625   14772          85593   \n2011-01-01   311587816  10258774  1206031   9052743   14661          84175   \n2012-01-01   313873685  10219059  1217067   9001992   14866          85141   \n2013-01-01   316497531   9850445  1199684   8650761   14319          82109   \n2014-01-01   318857056   9475816  1197987   8277829   14249          84041   \n\n            Robbery  Aggravated_assault  Burglary  Larceny_Theft  \\\nYear                                                               \n1960-01-01   107840              154320    912100        1855400   \n1961-01-01   106670              156760    949600        1913000   \n1962-01-01   110860              164570    994300        2089600   \n1963-01-01   116470              174210   1086400        2297800   \n1964-01-01   130390              203050   1213200        2514400   \n1965-01-01   138690              215330   1282500        2572600   \n1966-01-01   157990              235330   1410100        2822000   \n1967-01-01   202910              257160   1632100        3111600   \n1968-01-01   262840              286700   1858900        3482700   \n1969-01-01   298850              311090   1981900        3888600   \n1970-01-01   349860              334970   2205000        4225800   \n1971-01-01   387700              368760   2399300        4424200   \n1972-01-01   376290              393090   2375500        4151200   \n1973-01-01   384220              420650   2565500        4347900   \n1974-01-01   442400              456210   3039200        5262500   \n1975-01-01   470500              492620   3265300        5977700   \n1976-01-01   427810              500530   3108700        6270800   \n1977-01-01   412610              534350   3071500        5905700   \n1978-01-01   426930              571460   3128300        5991000   \n1979-01-01   480700              629480   3327700        6601000   \n1980-01-01   565840              672650   3795200        7136900   \n1981-01-01   592910              663900   3779700        7194400   \n1982-01-01   553130              669480   3447100        7142500   \n1983-01-01   506570              653290   3129900        6712800   \n1984-01-01   485010              685350   2984400        6591900   \n1985-01-01   497870              723250   3073300        6926400   \n1986-01-01   542775              834322   3241410        7257153   \n1987-01-01   517704              855088   3236184        7499900   \n1988-01-01   542970              910090   3218100        7705900   \n1989-01-01   578330              951710   3168200        7872400   \n1990-01-01   639270             1054860   3073900        7945700   \n1991-01-01   687730             1092740   3157200        8142200   \n1992-01-01   672480             1126970   2979900        7915200   \n1993-01-01   659870             1135610   2834800        7820900   \n1994-01-01   618950             1113180   2712800        7879800   \n1995-01-01   580510             1099210   2593800        7997700   \n1996-01-01   535590             1037050   2506400        7904700   \n1997-01-01   498534             1023201   2460526        7743760   \n1998-01-01   446625              974402   2329950        7373886   \n1999-01-01   409371              911740   2100739        6955520   \n2000-01-01   408016              911706   2050992        6971590   \n2001-01-01   423557              909023   2116531        7092267   \n2002-01-01   420806              891407   2151252        7057370   \n2003-01-01   414235              859030   2154834        7026802   \n2004-01-01   401470              847381   2144446        6937089   \n2005-01-01   417438              862220   2155448        6783447   \n2006-01-01   447403              860853   2183746        6607013   \n2007-01-01   445125              855856   2176140        6568572   \n2008-01-01   443574              842134   2228474        6588046   \n2009-01-01   408742              812514   2203313        6338095   \n2010-01-01   369089              781844   2168457        6204601   \n2011-01-01   354772              752423   2185140        6151095   \n2012-01-01   355051              762009   2109932        6168874   \n2013-01-01   345095              726575   1931835        6018632   \n2014-01-01   325802              741291   1729806        5858496   \n\n            Vehicle_Theft  \nYear                       \n1960-01-01         328200  \n1961-01-01         336000  \n1962-01-01         366800  \n1963-01-01         408300  \n1964-01-01         472800  \n1965-01-01         496900  \n1966-01-01         561200  \n1967-01-01         659800  \n1968-01-01         783600  \n1969-01-01         878500  \n1970-01-01         928400  \n1971-01-01         948200  \n1972-01-01         887200  \n1973-01-01         928800  \n1974-01-01         977100  \n1975-01-01        1009600  \n1976-01-01         966000  \n1977-01-01         977700  \n1978-01-01        1004100  \n1979-01-01        1112800  \n1980-01-01        1131700  \n1981-01-01        1087800  \n1982-01-01        1062400  \n1983-01-01        1007900  \n1984-01-01        1032200  \n1985-01-01        1102900  \n1986-01-01        1224137  \n1987-01-01        1288674  \n1988-01-01        1432900  \n1989-01-01        1564800  \n1990-01-01        1635900  \n1991-01-01        1661700  \n1992-01-01        1610800  \n1993-01-01        1563100  \n1994-01-01        1539300  \n1995-01-01        1472400  \n1996-01-01        1394200  \n1997-01-01        1354189  \n1998-01-01        1240754  \n1999-01-01        1152075  \n2000-01-01        1160002  \n2001-01-01        1228391  \n2002-01-01        1246646  \n2003-01-01        1261226  \n2004-01-01        1237851  \n2005-01-01        1235859  \n2006-01-01        1192809  \n2007-01-01        1095769  \n2008-01-01         958629  \n2009-01-01         795652  \n2010-01-01         739565  \n2011-01-01         716508  \n2012-01-01         723186  \n2013-01-01         700294  \n2014-01-01         689527  ",
      "text/html": "<div>\n<style scoped>\n    .dataframe tbody tr th:only-of-type {\n        vertical-align: middle;\n    }\n\n    .dataframe tbody tr th {\n        vertical-align: top;\n    }\n\n    .dataframe thead th {\n        text-align: right;\n    }\n</style>\n<table border=\"1\" class=\"dataframe\">\n  <thead>\n    <tr style=\"text-align: right;\">\n      <th></th>\n      <th>Population</th>\n      <th>Total</th>\n      <th>Violent</th>\n      <th>Property</th>\n      <th>Murder</th>\n      <th>Forcible_Rape</th>\n      <th>Robbery</th>\n      <th>Aggravated_assault</th>\n      <th>Burglary</th>\n      <th>Larceny_Theft</th>\n      <th>Vehicle_Theft</th>\n    </tr>\n    <tr>\n      <th>Year</th>\n      <th></th>\n      <th></th>\n      <th></th>\n      <th></th>\n      <th></th>\n      <th></th>\n      <th></th>\n      <th></th>\n      <th></th>\n      <th></th>\n      <th></th>\n    </tr>\n  </thead>\n  <tbody>\n    <tr>\n      <th>1960-01-01</th>\n      <td>179323175</td>\n      <td>3384200</td>\n      <td>288460</td>\n      <td>3095700</td>\n      <td>9110</td>\n      <td>17190</td>\n      <td>107840</td>\n      <td>154320</td>\n      <td>912100</td>\n      <td>1855400</td>\n      <td>328200</td>\n    </tr>\n    <tr>\n      <th>1961-01-01</th>\n      <td>182992000</td>\n      <td>3488000</td>\n      <td>289390</td>\n      <td>3198600</td>\n      <td>8740</td>\n      <td>17220</td>\n      <td>106670</td>\n      <td>156760</td>\n      <td>949600</td>\n      <td>1913000</td>\n      <td>336000</td>\n    </tr>\n    <tr>\n      <th>1962-01-01</th>\n      <td>185771000</td>\n      <td>3752200</td>\n      <td>301510</td>\n      <td>3450700</td>\n      <td>8530</td>\n      <td>17550</td>\n      <td>110860</td>\n      <td>164570</td>\n      <td>994300</td>\n      <td>2089600</td>\n      <td>366800</td>\n    </tr>\n    <tr>\n      <th>1963-01-01</th>\n      <td>188483000</td>\n      <td>4109500</td>\n      <td>316970</td>\n      <td>3792500</td>\n      <td>8640</td>\n      <td>17650</td>\n      <td>116470</td>\n      <td>174210</td>\n      <td>1086400</td>\n      <td>2297800</td>\n      <td>408300</td>\n    </tr>\n    <tr>\n      <th>1964-01-01</th>\n      <td>191141000</td>\n      <td>4564600</td>\n      <td>364220</td>\n      <td>4200400</td>\n      <td>9360</td>\n      <td>21420</td>\n      <td>130390</td>\n      <td>203050</td>\n      <td>1213200</td>\n      <td>2514400</td>\n      <td>472800</td>\n    </tr>\n    <tr>\n      <th>1965-01-01</th>\n      <td>193526000</td>\n      <td>4739400</td>\n      <td>387390</td>\n      <td>4352000</td>\n      <td>9960</td>\n      <td>23410</td>\n      <td>138690</td>\n      <td>215330</td>\n      <td>1282500</td>\n      <td>2572600</td>\n      <td>496900</td>\n    </tr>\n    <tr>\n      <th>1966-01-01</th>\n      <td>195576000</td>\n      <td>5223500</td>\n      <td>430180</td>\n      <td>4793300</td>\n      <td>11040</td>\n      <td>25820</td>\n      <td>157990</td>\n      <td>235330</td>\n      <td>1410100</td>\n      <td>2822000</td>\n      <td>561200</td>\n    </tr>\n    <tr>\n      <th>1967-01-01</th>\n      <td>197457000</td>\n      <td>5903400</td>\n      <td>499930</td>\n      <td>5403500</td>\n      <td>12240</td>\n      <td>27620</td>\n      <td>202910</td>\n      <td>257160</td>\n      <td>1632100</td>\n      <td>3111600</td>\n      <td>659800</td>\n    </tr>\n    <tr>\n      <th>1968-01-01</th>\n      <td>199399000</td>\n      <td>6720200</td>\n      <td>595010</td>\n      <td>6125200</td>\n      <td>13800</td>\n      <td>31670</td>\n      <td>262840</td>\n      <td>286700</td>\n      <td>1858900</td>\n      <td>3482700</td>\n      <td>783600</td>\n    </tr>\n    <tr>\n      <th>1969-01-01</th>\n      <td>201385000</td>\n      <td>7410900</td>\n      <td>661870</td>\n      <td>6749000</td>\n      <td>14760</td>\n      <td>37170</td>\n      <td>298850</td>\n      <td>311090</td>\n      <td>1981900</td>\n      <td>3888600</td>\n      <td>878500</td>\n    </tr>\n    <tr>\n      <th>1970-01-01</th>\n      <td>203235298</td>\n      <td>8098000</td>\n      <td>738820</td>\n      <td>7359200</td>\n      <td>16000</td>\n      <td>37990</td>\n      <td>349860</td>\n      <td>334970</td>\n      <td>2205000</td>\n      <td>4225800</td>\n      <td>928400</td>\n    </tr>\n    <tr>\n      <th>1971-01-01</th>\n      <td>206212000</td>\n      <td>8588200</td>\n      <td>816500</td>\n      <td>7771700</td>\n      <td>17780</td>\n      <td>42260</td>\n      <td>387700</td>\n      <td>368760</td>\n      <td>2399300</td>\n      <td>4424200</td>\n      <td>948200</td>\n    </tr>\n    <tr>\n      <th>1972-01-01</th>\n      <td>208230000</td>\n      <td>8248800</td>\n      <td>834900</td>\n      <td>7413900</td>\n      <td>18670</td>\n      <td>46850</td>\n      <td>376290</td>\n      <td>393090</td>\n      <td>2375500</td>\n      <td>4151200</td>\n      <td>887200</td>\n    </tr>\n    <tr>\n      <th>1973-01-01</th>\n      <td>209851000</td>\n      <td>8718100</td>\n      <td>875910</td>\n      <td>7842200</td>\n      <td>19640</td>\n      <td>51400</td>\n      <td>384220</td>\n      <td>420650</td>\n      <td>2565500</td>\n      <td>4347900</td>\n      <td>928800</td>\n    </tr>\n    <tr>\n      <th>1974-01-01</th>\n      <td>211392000</td>\n      <td>10253400</td>\n      <td>974720</td>\n      <td>9278700</td>\n      <td>20710</td>\n      <td>55400</td>\n      <td>442400</td>\n      <td>456210</td>\n      <td>3039200</td>\n      <td>5262500</td>\n      <td>977100</td>\n    </tr>\n    <tr>\n      <th>1975-01-01</th>\n      <td>213124000</td>\n      <td>11292400</td>\n      <td>1039710</td>\n      <td>10252700</td>\n      <td>20510</td>\n      <td>56090</td>\n      <td>470500</td>\n      <td>492620</td>\n      <td>3265300</td>\n      <td>5977700</td>\n      <td>1009600</td>\n    </tr>\n    <tr>\n      <th>1976-01-01</th>\n      <td>214659000</td>\n      <td>11349700</td>\n      <td>1004210</td>\n      <td>10345500</td>\n      <td>18780</td>\n      <td>57080</td>\n      <td>427810</td>\n      <td>500530</td>\n      <td>3108700</td>\n      <td>6270800</td>\n      <td>966000</td>\n    </tr>\n    <tr>\n      <th>1977-01-01</th>\n      <td>216332000</td>\n      <td>10984500</td>\n      <td>1029580</td>\n      <td>9955000</td>\n      <td>19120</td>\n      <td>63500</td>\n      <td>412610</td>\n      <td>534350</td>\n      <td>3071500</td>\n      <td>5905700</td>\n      <td>977700</td>\n    </tr>\n    <tr>\n      <th>1978-01-01</th>\n      <td>218059000</td>\n      <td>11209000</td>\n      <td>1085550</td>\n      <td>10123400</td>\n      <td>19560</td>\n      <td>67610</td>\n      <td>426930</td>\n      <td>571460</td>\n      <td>3128300</td>\n      <td>5991000</td>\n      <td>1004100</td>\n    </tr>\n    <tr>\n      <th>1979-01-01</th>\n      <td>220099000</td>\n      <td>12249500</td>\n      <td>1208030</td>\n      <td>11041500</td>\n      <td>21460</td>\n      <td>76390</td>\n      <td>480700</td>\n      <td>629480</td>\n      <td>3327700</td>\n      <td>6601000</td>\n      <td>1112800</td>\n    </tr>\n    <tr>\n      <th>1980-01-01</th>\n      <td>225349264</td>\n      <td>13408300</td>\n      <td>1344520</td>\n      <td>12063700</td>\n      <td>23040</td>\n      <td>82990</td>\n      <td>565840</td>\n      <td>672650</td>\n      <td>3795200</td>\n      <td>7136900</td>\n      <td>1131700</td>\n    </tr>\n    <tr>\n      <th>1981-01-01</th>\n      <td>229146000</td>\n      <td>13423800</td>\n      <td>1361820</td>\n      <td>12061900</td>\n      <td>22520</td>\n      <td>82500</td>\n      <td>592910</td>\n      <td>663900</td>\n      <td>3779700</td>\n      <td>7194400</td>\n      <td>1087800</td>\n    </tr>\n    <tr>\n      <th>1982-01-01</th>\n      <td>231534000</td>\n      <td>12974400</td>\n      <td>1322390</td>\n      <td>11652000</td>\n      <td>21010</td>\n      <td>78770</td>\n      <td>553130</td>\n      <td>669480</td>\n      <td>3447100</td>\n      <td>7142500</td>\n      <td>1062400</td>\n    </tr>\n    <tr>\n      <th>1983-01-01</th>\n      <td>233981000</td>\n      <td>12108600</td>\n      <td>1258090</td>\n      <td>10850500</td>\n      <td>19310</td>\n      <td>78920</td>\n      <td>506570</td>\n      <td>653290</td>\n      <td>3129900</td>\n      <td>6712800</td>\n      <td>1007900</td>\n    </tr>\n    <tr>\n      <th>1984-01-01</th>\n      <td>236158000</td>\n      <td>11881800</td>\n      <td>1273280</td>\n      <td>10608500</td>\n      <td>18690</td>\n      <td>84230</td>\n      <td>485010</td>\n      <td>685350</td>\n      <td>2984400</td>\n      <td>6591900</td>\n      <td>1032200</td>\n    </tr>\n    <tr>\n      <th>1985-01-01</th>\n      <td>238740000</td>\n      <td>12431400</td>\n      <td>1328800</td>\n      <td>11102600</td>\n      <td>18980</td>\n      <td>88670</td>\n      <td>497870</td>\n      <td>723250</td>\n      <td>3073300</td>\n      <td>6926400</td>\n      <td>1102900</td>\n    </tr>\n    <tr>\n      <th>1986-01-01</th>\n      <td>240132887</td>\n      <td>13211869</td>\n      <td>1489169</td>\n      <td>11722700</td>\n      <td>20613</td>\n      <td>91459</td>\n      <td>542775</td>\n      <td>834322</td>\n      <td>3241410</td>\n      <td>7257153</td>\n      <td>1224137</td>\n    </tr>\n    <tr>\n      <th>1987-01-01</th>\n      <td>242282918</td>\n      <td>13508700</td>\n      <td>1483999</td>\n      <td>12024700</td>\n      <td>20096</td>\n      <td>91110</td>\n      <td>517704</td>\n      <td>855088</td>\n      <td>3236184</td>\n      <td>7499900</td>\n      <td>1288674</td>\n    </tr>\n    <tr>\n      <th>1988-01-01</th>\n      <td>245807000</td>\n      <td>13923100</td>\n      <td>1566220</td>\n      <td>12356900</td>\n      <td>20680</td>\n      <td>92490</td>\n      <td>542970</td>\n      <td>910090</td>\n      <td>3218100</td>\n      <td>7705900</td>\n      <td>1432900</td>\n    </tr>\n    <tr>\n      <th>1989-01-01</th>\n      <td>248239000</td>\n      <td>14251400</td>\n      <td>1646040</td>\n      <td>12605400</td>\n      <td>21500</td>\n      <td>94500</td>\n      <td>578330</td>\n      <td>951710</td>\n      <td>3168200</td>\n      <td>7872400</td>\n      <td>1564800</td>\n    </tr>\n    <tr>\n      <th>1990-01-01</th>\n      <td>248709873</td>\n      <td>14475600</td>\n      <td>1820130</td>\n      <td>12655500</td>\n      <td>23440</td>\n      <td>102560</td>\n      <td>639270</td>\n      <td>1054860</td>\n      <td>3073900</td>\n      <td>7945700</td>\n      <td>1635900</td>\n    </tr>\n    <tr>\n      <th>1991-01-01</th>\n      <td>252177000</td>\n      <td>14872900</td>\n      <td>1911770</td>\n      <td>12961100</td>\n      <td>24700</td>\n      <td>106590</td>\n      <td>687730</td>\n      <td>1092740</td>\n      <td>3157200</td>\n      <td>8142200</td>\n      <td>1661700</td>\n    </tr>\n    <tr>\n      <th>1992-01-01</th>\n      <td>255082000</td>\n      <td>14438200</td>\n      <td>1932270</td>\n      <td>12505900</td>\n      <td>23760</td>\n      <td>109060</td>\n      <td>672480</td>\n      <td>1126970</td>\n      <td>2979900</td>\n      <td>7915200</td>\n      <td>1610800</td>\n    </tr>\n    <tr>\n      <th>1993-01-01</th>\n      <td>257908000</td>\n      <td>14144800</td>\n      <td>1926020</td>\n      <td>12218800</td>\n      <td>24530</td>\n      <td>106010</td>\n      <td>659870</td>\n      <td>1135610</td>\n      <td>2834800</td>\n      <td>7820900</td>\n      <td>1563100</td>\n    </tr>\n    <tr>\n      <th>1994-01-01</th>\n      <td>260341000</td>\n      <td>13989500</td>\n      <td>1857670</td>\n      <td>12131900</td>\n      <td>23330</td>\n      <td>102220</td>\n      <td>618950</td>\n      <td>1113180</td>\n      <td>2712800</td>\n      <td>7879800</td>\n      <td>1539300</td>\n    </tr>\n    <tr>\n      <th>1995-01-01</th>\n      <td>262755000</td>\n      <td>13862700</td>\n      <td>1798790</td>\n      <td>12063900</td>\n      <td>21610</td>\n      <td>97470</td>\n      <td>580510</td>\n      <td>1099210</td>\n      <td>2593800</td>\n      <td>7997700</td>\n      <td>1472400</td>\n    </tr>\n    <tr>\n      <th>1996-01-01</th>\n      <td>265228572</td>\n      <td>13493863</td>\n      <td>1688540</td>\n      <td>11805300</td>\n      <td>19650</td>\n      <td>96250</td>\n      <td>535590</td>\n      <td>1037050</td>\n      <td>2506400</td>\n      <td>7904700</td>\n      <td>1394200</td>\n    </tr>\n    <tr>\n      <th>1997-01-01</th>\n      <td>267637000</td>\n      <td>13194571</td>\n      <td>1634770</td>\n      <td>11558175</td>\n      <td>18208</td>\n      <td>96153</td>\n      <td>498534</td>\n      <td>1023201</td>\n      <td>2460526</td>\n      <td>7743760</td>\n      <td>1354189</td>\n    </tr>\n    <tr>\n      <th>1998-01-01</th>\n      <td>270296000</td>\n      <td>12475634</td>\n      <td>1531044</td>\n      <td>10944590</td>\n      <td>16914</td>\n      <td>93103</td>\n      <td>446625</td>\n      <td>974402</td>\n      <td>2329950</td>\n      <td>7373886</td>\n      <td>1240754</td>\n    </tr>\n    <tr>\n      <th>1999-01-01</th>\n      <td>272690813</td>\n      <td>11634378</td>\n      <td>1426044</td>\n      <td>10208334</td>\n      <td>15522</td>\n      <td>89411</td>\n      <td>409371</td>\n      <td>911740</td>\n      <td>2100739</td>\n      <td>6955520</td>\n      <td>1152075</td>\n    </tr>\n    <tr>\n      <th>2000-01-01</th>\n      <td>281421906</td>\n      <td>11608072</td>\n      <td>1425486</td>\n      <td>10182586</td>\n      <td>15586</td>\n      <td>90178</td>\n      <td>408016</td>\n      <td>911706</td>\n      <td>2050992</td>\n      <td>6971590</td>\n      <td>1160002</td>\n    </tr>\n    <tr>\n      <th>2001-01-01</th>\n      <td>285317559</td>\n      <td>11876669</td>\n      <td>1439480</td>\n      <td>10437480</td>\n      <td>16037</td>\n      <td>90863</td>\n      <td>423557</td>\n      <td>909023</td>\n      <td>2116531</td>\n      <td>7092267</td>\n      <td>1228391</td>\n    </tr>\n    <tr>\n      <th>2002-01-01</th>\n      <td>287973924</td>\n      <td>11878954</td>\n      <td>1423677</td>\n      <td>10455277</td>\n      <td>16229</td>\n      <td>95235</td>\n      <td>420806</td>\n      <td>891407</td>\n      <td>2151252</td>\n      <td>7057370</td>\n      <td>1246646</td>\n    </tr>\n    <tr>\n      <th>2003-01-01</th>\n      <td>290690788</td>\n      <td>11826538</td>\n      <td>1383676</td>\n      <td>10442862</td>\n      <td>16528</td>\n      <td>93883</td>\n      <td>414235</td>\n      <td>859030</td>\n      <td>2154834</td>\n      <td>7026802</td>\n      <td>1261226</td>\n    </tr>\n    <tr>\n      <th>2004-01-01</th>\n      <td>293656842</td>\n      <td>11679474</td>\n      <td>1360088</td>\n      <td>10319386</td>\n      <td>16148</td>\n      <td>95089</td>\n      <td>401470</td>\n      <td>847381</td>\n      <td>2144446</td>\n      <td>6937089</td>\n      <td>1237851</td>\n    </tr>\n    <tr>\n      <th>2005-01-01</th>\n      <td>296507061</td>\n      <td>11565499</td>\n      <td>1390745</td>\n      <td>10174754</td>\n      <td>16740</td>\n      <td>94347</td>\n      <td>417438</td>\n      <td>862220</td>\n      <td>2155448</td>\n      <td>6783447</td>\n      <td>1235859</td>\n    </tr>\n    <tr>\n      <th>2006-01-01</th>\n      <td>299398484</td>\n      <td>11401511</td>\n      <td>1418043</td>\n      <td>9983568</td>\n      <td>17030</td>\n      <td>92757</td>\n      <td>447403</td>\n      <td>860853</td>\n      <td>2183746</td>\n      <td>6607013</td>\n      <td>1192809</td>\n    </tr>\n    <tr>\n      <th>2007-01-01</th>\n      <td>301621157</td>\n      <td>11251828</td>\n      <td>1408337</td>\n      <td>9843481</td>\n      <td>16929</td>\n      <td>90427</td>\n      <td>445125</td>\n      <td>855856</td>\n      <td>2176140</td>\n      <td>6568572</td>\n      <td>1095769</td>\n    </tr>\n    <tr>\n      <th>2008-01-01</th>\n      <td>304374846</td>\n      <td>11160543</td>\n      <td>1392628</td>\n      <td>9767915</td>\n      <td>16442</td>\n      <td>90479</td>\n      <td>443574</td>\n      <td>842134</td>\n      <td>2228474</td>\n      <td>6588046</td>\n      <td>958629</td>\n    </tr>\n    <tr>\n      <th>2009-01-01</th>\n      <td>307006550</td>\n      <td>10762956</td>\n      <td>1325896</td>\n      <td>9337060</td>\n      <td>15399</td>\n      <td>89241</td>\n      <td>408742</td>\n      <td>812514</td>\n      <td>2203313</td>\n      <td>6338095</td>\n      <td>795652</td>\n    </tr>\n    <tr>\n      <th>2010-01-01</th>\n      <td>309330219</td>\n      <td>10363873</td>\n      <td>1251248</td>\n      <td>9112625</td>\n      <td>14772</td>\n      <td>85593</td>\n      <td>369089</td>\n      <td>781844</td>\n      <td>2168457</td>\n      <td>6204601</td>\n      <td>739565</td>\n    </tr>\n    <tr>\n      <th>2011-01-01</th>\n      <td>311587816</td>\n      <td>10258774</td>\n      <td>1206031</td>\n      <td>9052743</td>\n      <td>14661</td>\n      <td>84175</td>\n      <td>354772</td>\n      <td>752423</td>\n      <td>2185140</td>\n      <td>6151095</td>\n      <td>716508</td>\n    </tr>\n    <tr>\n      <th>2012-01-01</th>\n      <td>313873685</td>\n      <td>10219059</td>\n      <td>1217067</td>\n      <td>9001992</td>\n      <td>14866</td>\n      <td>85141</td>\n      <td>355051</td>\n      <td>762009</td>\n      <td>2109932</td>\n      <td>6168874</td>\n      <td>723186</td>\n    </tr>\n    <tr>\n      <th>2013-01-01</th>\n      <td>316497531</td>\n      <td>9850445</td>\n      <td>1199684</td>\n      <td>8650761</td>\n      <td>14319</td>\n      <td>82109</td>\n      <td>345095</td>\n      <td>726575</td>\n      <td>1931835</td>\n      <td>6018632</td>\n      <td>700294</td>\n    </tr>\n    <tr>\n      <th>2014-01-01</th>\n      <td>318857056</td>\n      <td>9475816</td>\n      <td>1197987</td>\n      <td>8277829</td>\n      <td>14249</td>\n      <td>84041</td>\n      <td>325802</td>\n      <td>741291</td>\n      <td>1729806</td>\n      <td>5858496</td>\n      <td>689527</td>\n    </tr>\n  </tbody>\n</table>\n</div>"
     },
     "execution_count": 184,
     "metadata": {},
     "output_type": "execute_result"
    }
   ],
   "source": [
    "crime.set_index(\"Year\")"
   ]
  },
  {
   "cell_type": "markdown",
   "id": "f206d331",
   "metadata": {
    "pycharm": {
     "name": "#%% md\n"
    }
   },
   "source": [
    "### Step 7. Delete the Total column"
   ]
  },
  {
   "cell_type": "code",
   "execution_count": 185,
   "id": "1375fbfa",
   "metadata": {
    "pycharm": {
     "name": "#%%\n"
    }
   },
   "outputs": [
    {
     "data": {
      "text/plain": "         Year  Population  Violent  Property  Murder  Forcible_Rape  Robbery  \\\n0  1960-01-01   179323175   288460   3095700    9110          17190   107840   \n1  1961-01-01   182992000   289390   3198600    8740          17220   106670   \n2  1962-01-01   185771000   301510   3450700    8530          17550   110860   \n3  1963-01-01   188483000   316970   3792500    8640          17650   116470   \n4  1964-01-01   191141000   364220   4200400    9360          21420   130390   \n5  1965-01-01   193526000   387390   4352000    9960          23410   138690   \n6  1966-01-01   195576000   430180   4793300   11040          25820   157990   \n7  1967-01-01   197457000   499930   5403500   12240          27620   202910   \n8  1968-01-01   199399000   595010   6125200   13800          31670   262840   \n9  1969-01-01   201385000   661870   6749000   14760          37170   298850   \n10 1970-01-01   203235298   738820   7359200   16000          37990   349860   \n11 1971-01-01   206212000   816500   7771700   17780          42260   387700   \n12 1972-01-01   208230000   834900   7413900   18670          46850   376290   \n13 1973-01-01   209851000   875910   7842200   19640          51400   384220   \n14 1974-01-01   211392000   974720   9278700   20710          55400   442400   \n15 1975-01-01   213124000  1039710  10252700   20510          56090   470500   \n16 1976-01-01   214659000  1004210  10345500   18780          57080   427810   \n17 1977-01-01   216332000  1029580   9955000   19120          63500   412610   \n18 1978-01-01   218059000  1085550  10123400   19560          67610   426930   \n19 1979-01-01   220099000  1208030  11041500   21460          76390   480700   \n20 1980-01-01   225349264  1344520  12063700   23040          82990   565840   \n21 1981-01-01   229146000  1361820  12061900   22520          82500   592910   \n22 1982-01-01   231534000  1322390  11652000   21010          78770   553130   \n23 1983-01-01   233981000  1258090  10850500   19310          78920   506570   \n24 1984-01-01   236158000  1273280  10608500   18690          84230   485010   \n25 1985-01-01   238740000  1328800  11102600   18980          88670   497870   \n26 1986-01-01   240132887  1489169  11722700   20613          91459   542775   \n27 1987-01-01   242282918  1483999  12024700   20096          91110   517704   \n28 1988-01-01   245807000  1566220  12356900   20680          92490   542970   \n29 1989-01-01   248239000  1646040  12605400   21500          94500   578330   \n30 1990-01-01   248709873  1820130  12655500   23440         102560   639270   \n31 1991-01-01   252177000  1911770  12961100   24700         106590   687730   \n32 1992-01-01   255082000  1932270  12505900   23760         109060   672480   \n33 1993-01-01   257908000  1926020  12218800   24530         106010   659870   \n34 1994-01-01   260341000  1857670  12131900   23330         102220   618950   \n35 1995-01-01   262755000  1798790  12063900   21610          97470   580510   \n36 1996-01-01   265228572  1688540  11805300   19650          96250   535590   \n37 1997-01-01   267637000  1634770  11558175   18208          96153   498534   \n38 1998-01-01   270296000  1531044  10944590   16914          93103   446625   \n39 1999-01-01   272690813  1426044  10208334   15522          89411   409371   \n40 2000-01-01   281421906  1425486  10182586   15586          90178   408016   \n41 2001-01-01   285317559  1439480  10437480   16037          90863   423557   \n42 2002-01-01   287973924  1423677  10455277   16229          95235   420806   \n43 2003-01-01   290690788  1383676  10442862   16528          93883   414235   \n44 2004-01-01   293656842  1360088  10319386   16148          95089   401470   \n45 2005-01-01   296507061  1390745  10174754   16740          94347   417438   \n46 2006-01-01   299398484  1418043   9983568   17030          92757   447403   \n47 2007-01-01   301621157  1408337   9843481   16929          90427   445125   \n48 2008-01-01   304374846  1392628   9767915   16442          90479   443574   \n49 2009-01-01   307006550  1325896   9337060   15399          89241   408742   \n50 2010-01-01   309330219  1251248   9112625   14772          85593   369089   \n51 2011-01-01   311587816  1206031   9052743   14661          84175   354772   \n52 2012-01-01   313873685  1217067   9001992   14866          85141   355051   \n53 2013-01-01   316497531  1199684   8650761   14319          82109   345095   \n54 2014-01-01   318857056  1197987   8277829   14249          84041   325802   \n\n    Aggravated_assault  Burglary  Larceny_Theft  Vehicle_Theft  \n0               154320    912100        1855400         328200  \n1               156760    949600        1913000         336000  \n2               164570    994300        2089600         366800  \n3               174210   1086400        2297800         408300  \n4               203050   1213200        2514400         472800  \n5               215330   1282500        2572600         496900  \n6               235330   1410100        2822000         561200  \n7               257160   1632100        3111600         659800  \n8               286700   1858900        3482700         783600  \n9               311090   1981900        3888600         878500  \n10              334970   2205000        4225800         928400  \n11              368760   2399300        4424200         948200  \n12              393090   2375500        4151200         887200  \n13              420650   2565500        4347900         928800  \n14              456210   3039200        5262500         977100  \n15              492620   3265300        5977700        1009600  \n16              500530   3108700        6270800         966000  \n17              534350   3071500        5905700         977700  \n18              571460   3128300        5991000        1004100  \n19              629480   3327700        6601000        1112800  \n20              672650   3795200        7136900        1131700  \n21              663900   3779700        7194400        1087800  \n22              669480   3447100        7142500        1062400  \n23              653290   3129900        6712800        1007900  \n24              685350   2984400        6591900        1032200  \n25              723250   3073300        6926400        1102900  \n26              834322   3241410        7257153        1224137  \n27              855088   3236184        7499900        1288674  \n28              910090   3218100        7705900        1432900  \n29              951710   3168200        7872400        1564800  \n30             1054860   3073900        7945700        1635900  \n31             1092740   3157200        8142200        1661700  \n32             1126970   2979900        7915200        1610800  \n33             1135610   2834800        7820900        1563100  \n34             1113180   2712800        7879800        1539300  \n35             1099210   2593800        7997700        1472400  \n36             1037050   2506400        7904700        1394200  \n37             1023201   2460526        7743760        1354189  \n38              974402   2329950        7373886        1240754  \n39              911740   2100739        6955520        1152075  \n40              911706   2050992        6971590        1160002  \n41              909023   2116531        7092267        1228391  \n42              891407   2151252        7057370        1246646  \n43              859030   2154834        7026802        1261226  \n44              847381   2144446        6937089        1237851  \n45              862220   2155448        6783447        1235859  \n46              860853   2183746        6607013        1192809  \n47              855856   2176140        6568572        1095769  \n48              842134   2228474        6588046         958629  \n49              812514   2203313        6338095         795652  \n50              781844   2168457        6204601         739565  \n51              752423   2185140        6151095         716508  \n52              762009   2109932        6168874         723186  \n53              726575   1931835        6018632         700294  \n54              741291   1729806        5858496         689527  ",
      "text/html": "<div>\n<style scoped>\n    .dataframe tbody tr th:only-of-type {\n        vertical-align: middle;\n    }\n\n    .dataframe tbody tr th {\n        vertical-align: top;\n    }\n\n    .dataframe thead th {\n        text-align: right;\n    }\n</style>\n<table border=\"1\" class=\"dataframe\">\n  <thead>\n    <tr style=\"text-align: right;\">\n      <th></th>\n      <th>Year</th>\n      <th>Population</th>\n      <th>Violent</th>\n      <th>Property</th>\n      <th>Murder</th>\n      <th>Forcible_Rape</th>\n      <th>Robbery</th>\n      <th>Aggravated_assault</th>\n      <th>Burglary</th>\n      <th>Larceny_Theft</th>\n      <th>Vehicle_Theft</th>\n    </tr>\n  </thead>\n  <tbody>\n    <tr>\n      <th>0</th>\n      <td>1960-01-01</td>\n      <td>179323175</td>\n      <td>288460</td>\n      <td>3095700</td>\n      <td>9110</td>\n      <td>17190</td>\n      <td>107840</td>\n      <td>154320</td>\n      <td>912100</td>\n      <td>1855400</td>\n      <td>328200</td>\n    </tr>\n    <tr>\n      <th>1</th>\n      <td>1961-01-01</td>\n      <td>182992000</td>\n      <td>289390</td>\n      <td>3198600</td>\n      <td>8740</td>\n      <td>17220</td>\n      <td>106670</td>\n      <td>156760</td>\n      <td>949600</td>\n      <td>1913000</td>\n      <td>336000</td>\n    </tr>\n    <tr>\n      <th>2</th>\n      <td>1962-01-01</td>\n      <td>185771000</td>\n      <td>301510</td>\n      <td>3450700</td>\n      <td>8530</td>\n      <td>17550</td>\n      <td>110860</td>\n      <td>164570</td>\n      <td>994300</td>\n      <td>2089600</td>\n      <td>366800</td>\n    </tr>\n    <tr>\n      <th>3</th>\n      <td>1963-01-01</td>\n      <td>188483000</td>\n      <td>316970</td>\n      <td>3792500</td>\n      <td>8640</td>\n      <td>17650</td>\n      <td>116470</td>\n      <td>174210</td>\n      <td>1086400</td>\n      <td>2297800</td>\n      <td>408300</td>\n    </tr>\n    <tr>\n      <th>4</th>\n      <td>1964-01-01</td>\n      <td>191141000</td>\n      <td>364220</td>\n      <td>4200400</td>\n      <td>9360</td>\n      <td>21420</td>\n      <td>130390</td>\n      <td>203050</td>\n      <td>1213200</td>\n      <td>2514400</td>\n      <td>472800</td>\n    </tr>\n    <tr>\n      <th>5</th>\n      <td>1965-01-01</td>\n      <td>193526000</td>\n      <td>387390</td>\n      <td>4352000</td>\n      <td>9960</td>\n      <td>23410</td>\n      <td>138690</td>\n      <td>215330</td>\n      <td>1282500</td>\n      <td>2572600</td>\n      <td>496900</td>\n    </tr>\n    <tr>\n      <th>6</th>\n      <td>1966-01-01</td>\n      <td>195576000</td>\n      <td>430180</td>\n      <td>4793300</td>\n      <td>11040</td>\n      <td>25820</td>\n      <td>157990</td>\n      <td>235330</td>\n      <td>1410100</td>\n      <td>2822000</td>\n      <td>561200</td>\n    </tr>\n    <tr>\n      <th>7</th>\n      <td>1967-01-01</td>\n      <td>197457000</td>\n      <td>499930</td>\n      <td>5403500</td>\n      <td>12240</td>\n      <td>27620</td>\n      <td>202910</td>\n      <td>257160</td>\n      <td>1632100</td>\n      <td>3111600</td>\n      <td>659800</td>\n    </tr>\n    <tr>\n      <th>8</th>\n      <td>1968-01-01</td>\n      <td>199399000</td>\n      <td>595010</td>\n      <td>6125200</td>\n      <td>13800</td>\n      <td>31670</td>\n      <td>262840</td>\n      <td>286700</td>\n      <td>1858900</td>\n      <td>3482700</td>\n      <td>783600</td>\n    </tr>\n    <tr>\n      <th>9</th>\n      <td>1969-01-01</td>\n      <td>201385000</td>\n      <td>661870</td>\n      <td>6749000</td>\n      <td>14760</td>\n      <td>37170</td>\n      <td>298850</td>\n      <td>311090</td>\n      <td>1981900</td>\n      <td>3888600</td>\n      <td>878500</td>\n    </tr>\n    <tr>\n      <th>10</th>\n      <td>1970-01-01</td>\n      <td>203235298</td>\n      <td>738820</td>\n      <td>7359200</td>\n      <td>16000</td>\n      <td>37990</td>\n      <td>349860</td>\n      <td>334970</td>\n      <td>2205000</td>\n      <td>4225800</td>\n      <td>928400</td>\n    </tr>\n    <tr>\n      <th>11</th>\n      <td>1971-01-01</td>\n      <td>206212000</td>\n      <td>816500</td>\n      <td>7771700</td>\n      <td>17780</td>\n      <td>42260</td>\n      <td>387700</td>\n      <td>368760</td>\n      <td>2399300</td>\n      <td>4424200</td>\n      <td>948200</td>\n    </tr>\n    <tr>\n      <th>12</th>\n      <td>1972-01-01</td>\n      <td>208230000</td>\n      <td>834900</td>\n      <td>7413900</td>\n      <td>18670</td>\n      <td>46850</td>\n      <td>376290</td>\n      <td>393090</td>\n      <td>2375500</td>\n      <td>4151200</td>\n      <td>887200</td>\n    </tr>\n    <tr>\n      <th>13</th>\n      <td>1973-01-01</td>\n      <td>209851000</td>\n      <td>875910</td>\n      <td>7842200</td>\n      <td>19640</td>\n      <td>51400</td>\n      <td>384220</td>\n      <td>420650</td>\n      <td>2565500</td>\n      <td>4347900</td>\n      <td>928800</td>\n    </tr>\n    <tr>\n      <th>14</th>\n      <td>1974-01-01</td>\n      <td>211392000</td>\n      <td>974720</td>\n      <td>9278700</td>\n      <td>20710</td>\n      <td>55400</td>\n      <td>442400</td>\n      <td>456210</td>\n      <td>3039200</td>\n      <td>5262500</td>\n      <td>977100</td>\n    </tr>\n    <tr>\n      <th>15</th>\n      <td>1975-01-01</td>\n      <td>213124000</td>\n      <td>1039710</td>\n      <td>10252700</td>\n      <td>20510</td>\n      <td>56090</td>\n      <td>470500</td>\n      <td>492620</td>\n      <td>3265300</td>\n      <td>5977700</td>\n      <td>1009600</td>\n    </tr>\n    <tr>\n      <th>16</th>\n      <td>1976-01-01</td>\n      <td>214659000</td>\n      <td>1004210</td>\n      <td>10345500</td>\n      <td>18780</td>\n      <td>57080</td>\n      <td>427810</td>\n      <td>500530</td>\n      <td>3108700</td>\n      <td>6270800</td>\n      <td>966000</td>\n    </tr>\n    <tr>\n      <th>17</th>\n      <td>1977-01-01</td>\n      <td>216332000</td>\n      <td>1029580</td>\n      <td>9955000</td>\n      <td>19120</td>\n      <td>63500</td>\n      <td>412610</td>\n      <td>534350</td>\n      <td>3071500</td>\n      <td>5905700</td>\n      <td>977700</td>\n    </tr>\n    <tr>\n      <th>18</th>\n      <td>1978-01-01</td>\n      <td>218059000</td>\n      <td>1085550</td>\n      <td>10123400</td>\n      <td>19560</td>\n      <td>67610</td>\n      <td>426930</td>\n      <td>571460</td>\n      <td>3128300</td>\n      <td>5991000</td>\n      <td>1004100</td>\n    </tr>\n    <tr>\n      <th>19</th>\n      <td>1979-01-01</td>\n      <td>220099000</td>\n      <td>1208030</td>\n      <td>11041500</td>\n      <td>21460</td>\n      <td>76390</td>\n      <td>480700</td>\n      <td>629480</td>\n      <td>3327700</td>\n      <td>6601000</td>\n      <td>1112800</td>\n    </tr>\n    <tr>\n      <th>20</th>\n      <td>1980-01-01</td>\n      <td>225349264</td>\n      <td>1344520</td>\n      <td>12063700</td>\n      <td>23040</td>\n      <td>82990</td>\n      <td>565840</td>\n      <td>672650</td>\n      <td>3795200</td>\n      <td>7136900</td>\n      <td>1131700</td>\n    </tr>\n    <tr>\n      <th>21</th>\n      <td>1981-01-01</td>\n      <td>229146000</td>\n      <td>1361820</td>\n      <td>12061900</td>\n      <td>22520</td>\n      <td>82500</td>\n      <td>592910</td>\n      <td>663900</td>\n      <td>3779700</td>\n      <td>7194400</td>\n      <td>1087800</td>\n    </tr>\n    <tr>\n      <th>22</th>\n      <td>1982-01-01</td>\n      <td>231534000</td>\n      <td>1322390</td>\n      <td>11652000</td>\n      <td>21010</td>\n      <td>78770</td>\n      <td>553130</td>\n      <td>669480</td>\n      <td>3447100</td>\n      <td>7142500</td>\n      <td>1062400</td>\n    </tr>\n    <tr>\n      <th>23</th>\n      <td>1983-01-01</td>\n      <td>233981000</td>\n      <td>1258090</td>\n      <td>10850500</td>\n      <td>19310</td>\n      <td>78920</td>\n      <td>506570</td>\n      <td>653290</td>\n      <td>3129900</td>\n      <td>6712800</td>\n      <td>1007900</td>\n    </tr>\n    <tr>\n      <th>24</th>\n      <td>1984-01-01</td>\n      <td>236158000</td>\n      <td>1273280</td>\n      <td>10608500</td>\n      <td>18690</td>\n      <td>84230</td>\n      <td>485010</td>\n      <td>685350</td>\n      <td>2984400</td>\n      <td>6591900</td>\n      <td>1032200</td>\n    </tr>\n    <tr>\n      <th>25</th>\n      <td>1985-01-01</td>\n      <td>238740000</td>\n      <td>1328800</td>\n      <td>11102600</td>\n      <td>18980</td>\n      <td>88670</td>\n      <td>497870</td>\n      <td>723250</td>\n      <td>3073300</td>\n      <td>6926400</td>\n      <td>1102900</td>\n    </tr>\n    <tr>\n      <th>26</th>\n      <td>1986-01-01</td>\n      <td>240132887</td>\n      <td>1489169</td>\n      <td>11722700</td>\n      <td>20613</td>\n      <td>91459</td>\n      <td>542775</td>\n      <td>834322</td>\n      <td>3241410</td>\n      <td>7257153</td>\n      <td>1224137</td>\n    </tr>\n    <tr>\n      <th>27</th>\n      <td>1987-01-01</td>\n      <td>242282918</td>\n      <td>1483999</td>\n      <td>12024700</td>\n      <td>20096</td>\n      <td>91110</td>\n      <td>517704</td>\n      <td>855088</td>\n      <td>3236184</td>\n      <td>7499900</td>\n      <td>1288674</td>\n    </tr>\n    <tr>\n      <th>28</th>\n      <td>1988-01-01</td>\n      <td>245807000</td>\n      <td>1566220</td>\n      <td>12356900</td>\n      <td>20680</td>\n      <td>92490</td>\n      <td>542970</td>\n      <td>910090</td>\n      <td>3218100</td>\n      <td>7705900</td>\n      <td>1432900</td>\n    </tr>\n    <tr>\n      <th>29</th>\n      <td>1989-01-01</td>\n      <td>248239000</td>\n      <td>1646040</td>\n      <td>12605400</td>\n      <td>21500</td>\n      <td>94500</td>\n      <td>578330</td>\n      <td>951710</td>\n      <td>3168200</td>\n      <td>7872400</td>\n      <td>1564800</td>\n    </tr>\n    <tr>\n      <th>30</th>\n      <td>1990-01-01</td>\n      <td>248709873</td>\n      <td>1820130</td>\n      <td>12655500</td>\n      <td>23440</td>\n      <td>102560</td>\n      <td>639270</td>\n      <td>1054860</td>\n      <td>3073900</td>\n      <td>7945700</td>\n      <td>1635900</td>\n    </tr>\n    <tr>\n      <th>31</th>\n      <td>1991-01-01</td>\n      <td>252177000</td>\n      <td>1911770</td>\n      <td>12961100</td>\n      <td>24700</td>\n      <td>106590</td>\n      <td>687730</td>\n      <td>1092740</td>\n      <td>3157200</td>\n      <td>8142200</td>\n      <td>1661700</td>\n    </tr>\n    <tr>\n      <th>32</th>\n      <td>1992-01-01</td>\n      <td>255082000</td>\n      <td>1932270</td>\n      <td>12505900</td>\n      <td>23760</td>\n      <td>109060</td>\n      <td>672480</td>\n      <td>1126970</td>\n      <td>2979900</td>\n      <td>7915200</td>\n      <td>1610800</td>\n    </tr>\n    <tr>\n      <th>33</th>\n      <td>1993-01-01</td>\n      <td>257908000</td>\n      <td>1926020</td>\n      <td>12218800</td>\n      <td>24530</td>\n      <td>106010</td>\n      <td>659870</td>\n      <td>1135610</td>\n      <td>2834800</td>\n      <td>7820900</td>\n      <td>1563100</td>\n    </tr>\n    <tr>\n      <th>34</th>\n      <td>1994-01-01</td>\n      <td>260341000</td>\n      <td>1857670</td>\n      <td>12131900</td>\n      <td>23330</td>\n      <td>102220</td>\n      <td>618950</td>\n      <td>1113180</td>\n      <td>2712800</td>\n      <td>7879800</td>\n      <td>1539300</td>\n    </tr>\n    <tr>\n      <th>35</th>\n      <td>1995-01-01</td>\n      <td>262755000</td>\n      <td>1798790</td>\n      <td>12063900</td>\n      <td>21610</td>\n      <td>97470</td>\n      <td>580510</td>\n      <td>1099210</td>\n      <td>2593800</td>\n      <td>7997700</td>\n      <td>1472400</td>\n    </tr>\n    <tr>\n      <th>36</th>\n      <td>1996-01-01</td>\n      <td>265228572</td>\n      <td>1688540</td>\n      <td>11805300</td>\n      <td>19650</td>\n      <td>96250</td>\n      <td>535590</td>\n      <td>1037050</td>\n      <td>2506400</td>\n      <td>7904700</td>\n      <td>1394200</td>\n    </tr>\n    <tr>\n      <th>37</th>\n      <td>1997-01-01</td>\n      <td>267637000</td>\n      <td>1634770</td>\n      <td>11558175</td>\n      <td>18208</td>\n      <td>96153</td>\n      <td>498534</td>\n      <td>1023201</td>\n      <td>2460526</td>\n      <td>7743760</td>\n      <td>1354189</td>\n    </tr>\n    <tr>\n      <th>38</th>\n      <td>1998-01-01</td>\n      <td>270296000</td>\n      <td>1531044</td>\n      <td>10944590</td>\n      <td>16914</td>\n      <td>93103</td>\n      <td>446625</td>\n      <td>974402</td>\n      <td>2329950</td>\n      <td>7373886</td>\n      <td>1240754</td>\n    </tr>\n    <tr>\n      <th>39</th>\n      <td>1999-01-01</td>\n      <td>272690813</td>\n      <td>1426044</td>\n      <td>10208334</td>\n      <td>15522</td>\n      <td>89411</td>\n      <td>409371</td>\n      <td>911740</td>\n      <td>2100739</td>\n      <td>6955520</td>\n      <td>1152075</td>\n    </tr>\n    <tr>\n      <th>40</th>\n      <td>2000-01-01</td>\n      <td>281421906</td>\n      <td>1425486</td>\n      <td>10182586</td>\n      <td>15586</td>\n      <td>90178</td>\n      <td>408016</td>\n      <td>911706</td>\n      <td>2050992</td>\n      <td>6971590</td>\n      <td>1160002</td>\n    </tr>\n    <tr>\n      <th>41</th>\n      <td>2001-01-01</td>\n      <td>285317559</td>\n      <td>1439480</td>\n      <td>10437480</td>\n      <td>16037</td>\n      <td>90863</td>\n      <td>423557</td>\n      <td>909023</td>\n      <td>2116531</td>\n      <td>7092267</td>\n      <td>1228391</td>\n    </tr>\n    <tr>\n      <th>42</th>\n      <td>2002-01-01</td>\n      <td>287973924</td>\n      <td>1423677</td>\n      <td>10455277</td>\n      <td>16229</td>\n      <td>95235</td>\n      <td>420806</td>\n      <td>891407</td>\n      <td>2151252</td>\n      <td>7057370</td>\n      <td>1246646</td>\n    </tr>\n    <tr>\n      <th>43</th>\n      <td>2003-01-01</td>\n      <td>290690788</td>\n      <td>1383676</td>\n      <td>10442862</td>\n      <td>16528</td>\n      <td>93883</td>\n      <td>414235</td>\n      <td>859030</td>\n      <td>2154834</td>\n      <td>7026802</td>\n      <td>1261226</td>\n    </tr>\n    <tr>\n      <th>44</th>\n      <td>2004-01-01</td>\n      <td>293656842</td>\n      <td>1360088</td>\n      <td>10319386</td>\n      <td>16148</td>\n      <td>95089</td>\n      <td>401470</td>\n      <td>847381</td>\n      <td>2144446</td>\n      <td>6937089</td>\n      <td>1237851</td>\n    </tr>\n    <tr>\n      <th>45</th>\n      <td>2005-01-01</td>\n      <td>296507061</td>\n      <td>1390745</td>\n      <td>10174754</td>\n      <td>16740</td>\n      <td>94347</td>\n      <td>417438</td>\n      <td>862220</td>\n      <td>2155448</td>\n      <td>6783447</td>\n      <td>1235859</td>\n    </tr>\n    <tr>\n      <th>46</th>\n      <td>2006-01-01</td>\n      <td>299398484</td>\n      <td>1418043</td>\n      <td>9983568</td>\n      <td>17030</td>\n      <td>92757</td>\n      <td>447403</td>\n      <td>860853</td>\n      <td>2183746</td>\n      <td>6607013</td>\n      <td>1192809</td>\n    </tr>\n    <tr>\n      <th>47</th>\n      <td>2007-01-01</td>\n      <td>301621157</td>\n      <td>1408337</td>\n      <td>9843481</td>\n      <td>16929</td>\n      <td>90427</td>\n      <td>445125</td>\n      <td>855856</td>\n      <td>2176140</td>\n      <td>6568572</td>\n      <td>1095769</td>\n    </tr>\n    <tr>\n      <th>48</th>\n      <td>2008-01-01</td>\n      <td>304374846</td>\n      <td>1392628</td>\n      <td>9767915</td>\n      <td>16442</td>\n      <td>90479</td>\n      <td>443574</td>\n      <td>842134</td>\n      <td>2228474</td>\n      <td>6588046</td>\n      <td>958629</td>\n    </tr>\n    <tr>\n      <th>49</th>\n      <td>2009-01-01</td>\n      <td>307006550</td>\n      <td>1325896</td>\n      <td>9337060</td>\n      <td>15399</td>\n      <td>89241</td>\n      <td>408742</td>\n      <td>812514</td>\n      <td>2203313</td>\n      <td>6338095</td>\n      <td>795652</td>\n    </tr>\n    <tr>\n      <th>50</th>\n      <td>2010-01-01</td>\n      <td>309330219</td>\n      <td>1251248</td>\n      <td>9112625</td>\n      <td>14772</td>\n      <td>85593</td>\n      <td>369089</td>\n      <td>781844</td>\n      <td>2168457</td>\n      <td>6204601</td>\n      <td>739565</td>\n    </tr>\n    <tr>\n      <th>51</th>\n      <td>2011-01-01</td>\n      <td>311587816</td>\n      <td>1206031</td>\n      <td>9052743</td>\n      <td>14661</td>\n      <td>84175</td>\n      <td>354772</td>\n      <td>752423</td>\n      <td>2185140</td>\n      <td>6151095</td>\n      <td>716508</td>\n    </tr>\n    <tr>\n      <th>52</th>\n      <td>2012-01-01</td>\n      <td>313873685</td>\n      <td>1217067</td>\n      <td>9001992</td>\n      <td>14866</td>\n      <td>85141</td>\n      <td>355051</td>\n      <td>762009</td>\n      <td>2109932</td>\n      <td>6168874</td>\n      <td>723186</td>\n    </tr>\n    <tr>\n      <th>53</th>\n      <td>2013-01-01</td>\n      <td>316497531</td>\n      <td>1199684</td>\n      <td>8650761</td>\n      <td>14319</td>\n      <td>82109</td>\n      <td>345095</td>\n      <td>726575</td>\n      <td>1931835</td>\n      <td>6018632</td>\n      <td>700294</td>\n    </tr>\n    <tr>\n      <th>54</th>\n      <td>2014-01-01</td>\n      <td>318857056</td>\n      <td>1197987</td>\n      <td>8277829</td>\n      <td>14249</td>\n      <td>84041</td>\n      <td>325802</td>\n      <td>741291</td>\n      <td>1729806</td>\n      <td>5858496</td>\n      <td>689527</td>\n    </tr>\n  </tbody>\n</table>\n</div>"
     },
     "execution_count": 185,
     "metadata": {},
     "output_type": "execute_result"
    }
   ],
   "source": [
    "crime.drop(columns=\"Total\")"
   ]
  },
  {
   "cell_type": "markdown",
   "id": "218ea4cc",
   "metadata": {
    "pycharm": {
     "name": "#%% md\n"
    }
   },
   "source": [
    "### Step 8. Group the year by decades and sum the values\n",
    "\n",
    "#### Pay attention to the Population column number, summing this column is a mistake"
   ]
  },
  {
   "cell_type": "code",
   "execution_count": 188,
   "id": "614d78e5",
   "metadata": {
    "scrolled": true,
    "pycharm": {
     "name": "#%%\n"
    }
   },
   "outputs": [
    {
     "data": {
      "text/plain": "                Total   Violent   Property  Murder  Forcible_Rape  Robbery  \\\nYear                                                                         \n1960-01-01   49295900   4134930   45160900  106180         236720  1633510   \n1970-01-01  100991600   9607930   91383800  192230         554570  4159020   \n1980-01-01  131123369  14074328  117048900  206439         865639  5383109   \n1990-01-01  136582146  17527048  119053499  211664         998827  5748930   \n2000-01-01  115012044  13968056  100944369  163068         922499  4230366   \n2010-01-01   50167967   6072017   44095950   72867         421059  1749809   \n\n            Aggravated_assault  Burglary  Larceny_Theft  Vehicle_Theft  \nYear                                                                    \n1960-01-01             2158520  13321100       26547700        5292100  \n1970-01-01             4702120  28486000       53157800        9739900  \n1980-01-01             7619130  33073494       72040253       11935411  \n1990-01-01            10568963  26750015       77679366       14624418  \n2000-01-01             8652124  21565176       67970291       11412834  \n2010-01-01             3764142  10125170       30401698        3569080  ",
      "text/html": "<div>\n<style scoped>\n    .dataframe tbody tr th:only-of-type {\n        vertical-align: middle;\n    }\n\n    .dataframe tbody tr th {\n        vertical-align: top;\n    }\n\n    .dataframe thead th {\n        text-align: right;\n    }\n</style>\n<table border=\"1\" class=\"dataframe\">\n  <thead>\n    <tr style=\"text-align: right;\">\n      <th></th>\n      <th>Total</th>\n      <th>Violent</th>\n      <th>Property</th>\n      <th>Murder</th>\n      <th>Forcible_Rape</th>\n      <th>Robbery</th>\n      <th>Aggravated_assault</th>\n      <th>Burglary</th>\n      <th>Larceny_Theft</th>\n      <th>Vehicle_Theft</th>\n    </tr>\n    <tr>\n      <th>Year</th>\n      <th></th>\n      <th></th>\n      <th></th>\n      <th></th>\n      <th></th>\n      <th></th>\n      <th></th>\n      <th></th>\n      <th></th>\n      <th></th>\n    </tr>\n  </thead>\n  <tbody>\n    <tr>\n      <th>1960-01-01</th>\n      <td>49295900</td>\n      <td>4134930</td>\n      <td>45160900</td>\n      <td>106180</td>\n      <td>236720</td>\n      <td>1633510</td>\n      <td>2158520</td>\n      <td>13321100</td>\n      <td>26547700</td>\n      <td>5292100</td>\n    </tr>\n    <tr>\n      <th>1970-01-01</th>\n      <td>100991600</td>\n      <td>9607930</td>\n      <td>91383800</td>\n      <td>192230</td>\n      <td>554570</td>\n      <td>4159020</td>\n      <td>4702120</td>\n      <td>28486000</td>\n      <td>53157800</td>\n      <td>9739900</td>\n    </tr>\n    <tr>\n      <th>1980-01-01</th>\n      <td>131123369</td>\n      <td>14074328</td>\n      <td>117048900</td>\n      <td>206439</td>\n      <td>865639</td>\n      <td>5383109</td>\n      <td>7619130</td>\n      <td>33073494</td>\n      <td>72040253</td>\n      <td>11935411</td>\n    </tr>\n    <tr>\n      <th>1990-01-01</th>\n      <td>136582146</td>\n      <td>17527048</td>\n      <td>119053499</td>\n      <td>211664</td>\n      <td>998827</td>\n      <td>5748930</td>\n      <td>10568963</td>\n      <td>26750015</td>\n      <td>77679366</td>\n      <td>14624418</td>\n    </tr>\n    <tr>\n      <th>2000-01-01</th>\n      <td>115012044</td>\n      <td>13968056</td>\n      <td>100944369</td>\n      <td>163068</td>\n      <td>922499</td>\n      <td>4230366</td>\n      <td>8652124</td>\n      <td>21565176</td>\n      <td>67970291</td>\n      <td>11412834</td>\n    </tr>\n    <tr>\n      <th>2010-01-01</th>\n      <td>50167967</td>\n      <td>6072017</td>\n      <td>44095950</td>\n      <td>72867</td>\n      <td>421059</td>\n      <td>1749809</td>\n      <td>3764142</td>\n      <td>10125170</td>\n      <td>30401698</td>\n      <td>3569080</td>\n    </tr>\n  </tbody>\n</table>\n</div>"
     },
     "execution_count": 188,
     "metadata": {},
     "output_type": "execute_result"
    }
   ],
   "source": [
    "crime_decades = crime.drop(columns=\"Population\").set_index('Year').resample('10AS').sum()\n",
    "crime_decades"
   ]
  },
  {
   "cell_type": "markdown",
   "id": "0558e87e",
   "metadata": {
    "pycharm": {
     "name": "#%% md\n"
    }
   },
   "source": [
    "### Step 9. What is the most dangerous decade to live in the US?"
   ]
  },
  {
   "cell_type": "code",
   "execution_count": 189,
   "id": "12d8aa07",
   "metadata": {
    "pycharm": {
     "name": "#%%\n"
    }
   },
   "outputs": [
    {
     "name": "stdout",
     "output_type": "stream",
     "text": [
      "Year\n",
      "1990-01-01    136582146\n",
      "Name: Total, dtype: int64\n",
      "Year\n",
      "1990-01-01    17527048\n",
      "Name: Violent, dtype: int64\n",
      "Year\n",
      "1990-01-01    119053499\n",
      "Name: Property, dtype: int64\n",
      "Year\n",
      "1990-01-01    211664\n",
      "Name: Murder, dtype: int64\n",
      "Year\n",
      "1990-01-01    998827\n",
      "Name: Forcible_Rape, dtype: int64\n",
      "Year\n",
      "1990-01-01    5748930\n",
      "Name: Robbery, dtype: int64\n",
      "Year\n",
      "1990-01-01    10568963\n",
      "Name: Aggravated_assault, dtype: int64\n",
      "Year\n",
      "1980-01-01    33073494\n",
      "Name: Burglary, dtype: int64\n",
      "Year\n",
      "1990-01-01    77679366\n",
      "Name: Larceny_Theft, dtype: int64\n",
      "Year\n",
      "1990-01-01    14624418\n",
      "Name: Vehicle_Theft, dtype: int64\n"
     ]
    }
   ],
   "source": [
    "# TODO IMPROVE ANSWER TO RETURN ONE DECADE\n",
    "crime_categories = [\"Total\", \"Violent\",\t\"Property\",\t\"Murder\", \"Forcible_Rape\", \"Robbery\", \"Aggravated_assault\",\t\"Burglary\",\t\"Larceny_Theft\", \"Vehicle_Theft\"]\n",
    "\n",
    "for category in crime_categories:\n",
    "  print(crime_decades.sort_values(category, ascending=False)[category].head(1))"
   ]
  },
  {
   "cell_type": "markdown",
   "id": "0f788d9d",
   "metadata": {
    "pycharm": {
     "name": "#%% md\n"
    }
   },
   "source": [
    "## Section 5: Merge"
   ]
  },
  {
   "cell_type": "markdown",
   "id": "be4a96db",
   "metadata": {
    "pycharm": {
     "name": "#%% md\n"
    }
   },
   "source": [
    "### Step 1. Import the necessary libraries"
   ]
  },
  {
   "cell_type": "code",
   "execution_count": 153,
   "id": "f5f41559",
   "metadata": {
    "pycharm": {
     "name": "#%%\n"
    }
   },
   "outputs": [],
   "source": [
    "import pandas as pd"
   ]
  },
  {
   "cell_type": "markdown",
   "id": "d3e9fe0a",
   "metadata": {
    "pycharm": {
     "name": "#%% md\n"
    }
   },
   "source": [
    "### Step 2. Create the 3 DataFrames based on the following raw data"
   ]
  },
  {
   "cell_type": "code",
   "execution_count": 190,
   "id": "e821cbfa",
   "metadata": {
    "collapsed": true,
    "pycharm": {
     "name": "#%%\n"
    }
   },
   "outputs": [],
   "source": [
    "raw_data_1 = {\n",
    "    'subject_id': ['1', '2', '3', '4', '5'],\n",
    "    'first_name': ['Alex', 'Amy', 'Allen', 'Alice', 'Ayoung'],\n",
    "    'last_name': ['Anderson', 'Ackerman', 'Ali', 'Aoni', 'Atiches']}\n",
    "\n",
    "raw_data_2 = {\n",
    "    'subject_id': ['4', '5', '6', '7', '8'],\n",
    "    'first_name': ['Billy', 'Brian', 'Bran', 'Bryce', 'Betty'],\n",
    "    'last_name': ['Bonder', 'Black', 'Balwner', 'Brice', 'Btisan']}\n",
    "\n",
    "raw_data_3 = {\n",
    "    'subject_id': ['1', '2', '3', '4', '5', '7', '8', '9', '10', '11'],\n",
    "    'test_id': [51, 15, 15, 61, 16, 14, 15, 1, 61, 16]}"
   ]
  },
  {
   "cell_type": "markdown",
   "id": "18fe3342",
   "metadata": {
    "pycharm": {
     "name": "#%% md\n"
    }
   },
   "source": [
    "### Step 3. Assign each to a variable called data1, data2, data3"
   ]
  },
  {
   "cell_type": "code",
   "execution_count": 191,
   "id": "90da0468",
   "metadata": {
    "pycharm": {
     "name": "#%%\n"
    }
   },
   "outputs": [],
   "source": [
    "data1 = pd.DataFrame(raw_data_1)\n",
    "data2 = pd.DataFrame(raw_data_2)\n",
    "data3 = pd.DataFrame(raw_data_3)"
   ]
  },
  {
   "cell_type": "markdown",
   "id": "3b793c7d",
   "metadata": {
    "pycharm": {
     "name": "#%% md\n"
    }
   },
   "source": [
    "### Step 4. Join the two dataframes along rows and assign all_data"
   ]
  },
  {
   "cell_type": "code",
   "execution_count": 154,
   "id": "41fdbc61",
   "metadata": {
    "pycharm": {
     "name": "#%%\n"
    }
   },
   "outputs": [],
   "source": []
  },
  {
   "cell_type": "markdown",
   "id": "fc8c6f86",
   "metadata": {
    "pycharm": {
     "name": "#%% md\n"
    }
   },
   "source": [
    "### Step 5. Join the two dataframes along columns and assing to all_data_col"
   ]
  },
  {
   "cell_type": "code",
   "execution_count": 154,
   "id": "41459117",
   "metadata": {
    "pycharm": {
     "name": "#%%\n"
    }
   },
   "outputs": [],
   "source": []
  },
  {
   "cell_type": "markdown",
   "id": "9f09f1c3",
   "metadata": {
    "pycharm": {
     "name": "#%% md\n"
    }
   },
   "source": [
    "### Step 6. Print data3"
   ]
  },
  {
   "cell_type": "code",
   "execution_count": 154,
   "id": "2cea8f6e",
   "metadata": {
    "pycharm": {
     "name": "#%%\n"
    }
   },
   "outputs": [],
   "source": []
  },
  {
   "cell_type": "markdown",
   "id": "ac4b35a7",
   "metadata": {
    "pycharm": {
     "name": "#%% md\n"
    }
   },
   "source": [
    "### Step 7. Merge all_data and data3 along the subject_id value"
   ]
  },
  {
   "cell_type": "code",
   "execution_count": 154,
   "id": "21f2115e",
   "metadata": {
    "pycharm": {
     "name": "#%%\n"
    }
   },
   "outputs": [],
   "source": []
  },
  {
   "cell_type": "markdown",
   "id": "12c4da3e",
   "metadata": {
    "pycharm": {
     "name": "#%% md\n"
    }
   },
   "source": [
    "### Step 8. Merge only the data that has the same 'subject_id' on both data1 and data2"
   ]
  },
  {
   "cell_type": "code",
   "execution_count": 154,
   "id": "db6200fe",
   "metadata": {
    "pycharm": {
     "name": "#%%\n"
    }
   },
   "outputs": [],
   "source": []
  },
  {
   "cell_type": "markdown",
   "id": "b3105684",
   "metadata": {
    "pycharm": {
     "name": "#%% md\n"
    }
   },
   "source": [
    "### Step 9. Merge all values in data1 and data2, with matching records from both sides where available."
   ]
  },
  {
   "cell_type": "code",
   "execution_count": 154,
   "id": "a6bfa0e9",
   "metadata": {
    "pycharm": {
     "name": "#%%\n"
    }
   },
   "outputs": [],
   "source": []
  },
  {
   "cell_type": "markdown",
   "id": "f37cc51a",
   "metadata": {
    "pycharm": {
     "name": "#%% md\n"
    }
   },
   "source": [
    "## Section 6: Stats"
   ]
  },
  {
   "cell_type": "markdown",
   "id": "7e1f46ce",
   "metadata": {
    "pycharm": {
     "name": "#%% md\n"
    }
   },
   "source": [
    "### Introduction:\n",
    "\n",
    "The data have been modified to contain some missing values, identified by NaN.  \n",
    "Using pandas should make this exercise\n",
    "easier, in particular for the bonus question.\n",
    "\n",
    "You should be able to perform all of these operations without using\n",
    "a for loop or other looping construct.\n",
    "\n",
    "\n",
    "1. The data in 'wind.data' has the following format:"
   ]
  },
  {
   "cell_type": "code",
   "execution_count": 155,
   "id": "b8473328",
   "metadata": {
    "pycharm": {
     "name": "#%%\n"
    }
   },
   "outputs": [
    {
     "data": {
      "text/plain": "'\\nYr Mo Dy   RPT   VAL   ROS   KIL   SHA   BIR   DUB   CLA   MUL   CLO   BEL   MAL\\n61  1  1 15.04 14.96 13.17  9.29   NaN  9.87 13.67 10.25 10.83 12.58 18.50 15.04\\n61  1  2 14.71   NaN 10.83  6.50 12.62  7.67 11.50 10.04  9.79  9.67 17.54 13.83\\n61  1  3 18.50 16.88 12.33 10.13 11.17  6.17 11.25   NaN  8.50  7.67 12.75 12.71\\n'"
     },
     "execution_count": 155,
     "metadata": {},
     "output_type": "execute_result"
    }
   ],
   "source": [
    "\"\"\"\n",
    "Yr Mo Dy   RPT   VAL   ROS   KIL   SHA   BIR   DUB   CLA   MUL   CLO   BEL   MAL\n",
    "61  1  1 15.04 14.96 13.17  9.29   NaN  9.87 13.67 10.25 10.83 12.58 18.50 15.04\n",
    "61  1  2 14.71   NaN 10.83  6.50 12.62  7.67 11.50 10.04  9.79  9.67 17.54 13.83\n",
    "61  1  3 18.50 16.88 12.33 10.13 11.17  6.17 11.25   NaN  8.50  7.67 12.75 12.71\n",
    "\"\"\""
   ]
  },
  {
   "cell_type": "markdown",
   "id": "c6498c2f",
   "metadata": {
    "pycharm": {
     "name": "#%% md\n"
    }
   },
   "source": [
    "   The first three columns are year, month and day.  The\n",
    "   remaining 12 columns are average windspeeds in knots at 12\n",
    "   locations in Ireland on that day.   \n",
    "\n",
    "   More information about the dataset go [here](wind.desc)."
   ]
  },
  {
   "cell_type": "markdown",
   "id": "c8dfa894",
   "metadata": {
    "pycharm": {
     "name": "#%% md\n"
    }
   },
   "source": [
    "### Step 1. Import the necessary libraries"
   ]
  },
  {
   "cell_type": "code",
   "execution_count": 155,
   "id": "651c1fe9",
   "metadata": {
    "pycharm": {
     "name": "#%%\n"
    }
   },
   "outputs": [],
   "source": []
  },
  {
   "cell_type": "markdown",
   "id": "75ea3454",
   "metadata": {
    "pycharm": {
     "name": "#%% md\n"
    }
   },
   "source": [
    "### Step 2. Import the dataset from this [address](https://raw.githubusercontent.com/guipsamora/pandas_exercises/master/06_Stats/Wind_Stats/wind.data)"
   ]
  },
  {
   "cell_type": "markdown",
   "id": "30ef3fe0",
   "metadata": {
    "pycharm": {
     "name": "#%% md\n"
    }
   },
   "source": [
    "### Step 3. Assign it to a variable called data and replace the first 3 columns by a proper datetime index."
   ]
  },
  {
   "cell_type": "code",
   "execution_count": 155,
   "id": "838f1f8c",
   "metadata": {
    "pycharm": {
     "name": "#%%\n"
    }
   },
   "outputs": [],
   "source": []
  },
  {
   "cell_type": "markdown",
   "id": "8ef2ebcb",
   "metadata": {
    "pycharm": {
     "name": "#%% md\n"
    }
   },
   "source": [
    "### Step 4. Year 2061? Do we really have data from this year? Create a function to fix it and apply it."
   ]
  },
  {
   "cell_type": "code",
   "execution_count": 155,
   "id": "6626a513",
   "metadata": {
    "pycharm": {
     "name": "#%%\n"
    }
   },
   "outputs": [],
   "source": []
  },
  {
   "cell_type": "markdown",
   "id": "e3c19cc5",
   "metadata": {
    "pycharm": {
     "name": "#%% md\n"
    }
   },
   "source": [
    "### Step 5. Set the right dates as the index. Pay attention at the data type, it should be datetime64[ns]."
   ]
  },
  {
   "cell_type": "code",
   "execution_count": 155,
   "id": "b169ca16",
   "metadata": {
    "pycharm": {
     "name": "#%%\n"
    }
   },
   "outputs": [],
   "source": []
  },
  {
   "cell_type": "markdown",
   "id": "906915e6",
   "metadata": {
    "pycharm": {
     "name": "#%% md\n"
    }
   },
   "source": [
    "### Step 6. Compute how many values are missing for each location over the entire record.  \n",
    "#### They should be ignored in all calculations below. "
   ]
  },
  {
   "cell_type": "code",
   "execution_count": 155,
   "id": "14aee622",
   "metadata": {
    "pycharm": {
     "name": "#%%\n"
    }
   },
   "outputs": [],
   "source": []
  },
  {
   "cell_type": "markdown",
   "id": "6aa712c4",
   "metadata": {
    "pycharm": {
     "name": "#%% md\n"
    }
   },
   "source": [
    "### Step 7. Compute how many non-missing values there are in total."
   ]
  },
  {
   "cell_type": "code",
   "execution_count": 155,
   "id": "fbcbeb24",
   "metadata": {
    "scrolled": true,
    "pycharm": {
     "name": "#%%\n"
    }
   },
   "outputs": [],
   "source": []
  },
  {
   "cell_type": "markdown",
   "id": "483b349d",
   "metadata": {
    "pycharm": {
     "name": "#%% md\n"
    }
   },
   "source": [
    "### Step 8. Calculate the mean windspeeds of the windspeeds over all the locations and all the times.\n",
    "#### A single number for the entire dataset."
   ]
  },
  {
   "cell_type": "code",
   "execution_count": 155,
   "id": "a2a230e0",
   "metadata": {
    "pycharm": {
     "name": "#%%\n"
    }
   },
   "outputs": [],
   "source": []
  },
  {
   "cell_type": "markdown",
   "id": "8c9b33d4",
   "metadata": {
    "pycharm": {
     "name": "#%% md\n"
    }
   },
   "source": [
    "### Step 9. Create a DataFrame called loc_stats and calculate the min, max and mean windspeeds and standard deviations of the windspeeds at each location over all the days \n",
    "\n",
    "#### A different set of numbers for each location."
   ]
  },
  {
   "cell_type": "code",
   "execution_count": 155,
   "id": "51d75d2b",
   "metadata": {
    "pycharm": {
     "name": "#%%\n"
    }
   },
   "outputs": [],
   "source": []
  },
  {
   "cell_type": "markdown",
   "id": "91e00153",
   "metadata": {
    "pycharm": {
     "name": "#%% md\n"
    }
   },
   "source": [
    "### Step 10. Create a DataFrame called day_stats and calculate the min, max and mean windspeed and standard deviations of the windspeeds across all the locations at each day.\n",
    "\n",
    "#### A different set of numbers for each day."
   ]
  },
  {
   "cell_type": "code",
   "execution_count": 155,
   "id": "bdf6c30f",
   "metadata": {
    "pycharm": {
     "name": "#%%\n"
    }
   },
   "outputs": [],
   "source": []
  },
  {
   "cell_type": "markdown",
   "id": "7c432fea",
   "metadata": {
    "pycharm": {
     "name": "#%% md\n"
    }
   },
   "source": [
    "### Step 11. Find the average windspeed in January for each location.  \n",
    "#### Treat January 1961 and January 1962 both as January."
   ]
  },
  {
   "cell_type": "code",
   "execution_count": 155,
   "id": "846c08c1",
   "metadata": {
    "pycharm": {
     "name": "#%%\n"
    }
   },
   "outputs": [],
   "source": []
  },
  {
   "cell_type": "markdown",
   "id": "d1c85939",
   "metadata": {
    "pycharm": {
     "name": "#%% md\n"
    }
   },
   "source": [
    "### Step 12. Downsample the record to a yearly frequency for each location."
   ]
  },
  {
   "cell_type": "code",
   "execution_count": 155,
   "id": "9d68bbdb",
   "metadata": {
    "pycharm": {
     "name": "#%%\n"
    }
   },
   "outputs": [],
   "source": []
  },
  {
   "cell_type": "markdown",
   "id": "5e051d90",
   "metadata": {
    "pycharm": {
     "name": "#%% md\n"
    }
   },
   "source": [
    "### Step 13. Downsample the record to a monthly frequency for each location."
   ]
  },
  {
   "cell_type": "code",
   "execution_count": 155,
   "id": "0e63f4d5",
   "metadata": {
    "pycharm": {
     "name": "#%%\n"
    }
   },
   "outputs": [],
   "source": []
  },
  {
   "cell_type": "markdown",
   "id": "b63246a8",
   "metadata": {
    "pycharm": {
     "name": "#%% md\n"
    }
   },
   "source": [
    "### Step 14. Downsample the record to a weekly frequency for each location."
   ]
  },
  {
   "cell_type": "code",
   "execution_count": 155,
   "id": "7bcf916b",
   "metadata": {
    "pycharm": {
     "name": "#%%\n"
    }
   },
   "outputs": [],
   "source": []
  },
  {
   "cell_type": "markdown",
   "id": "13417df1",
   "metadata": {
    "pycharm": {
     "name": "#%% md\n"
    }
   },
   "source": [
    "### Step 15. Calculate the min, max and mean windspeeds and standard deviations of the windspeeds across all locations for each week (assume that the first week starts on January 2 1961) for the first 52 weeks."
   ]
  },
  {
   "cell_type": "code",
   "execution_count": 155,
   "id": "2af6b19a",
   "metadata": {
    "pycharm": {
     "name": "#%%\n"
    }
   },
   "outputs": [],
   "source": []
  },
  {
   "cell_type": "markdown",
   "id": "2964d3ae",
   "metadata": {
    "pycharm": {
     "name": "#%% md\n"
    }
   },
   "source": [
    "## Section 7: Visualization"
   ]
  },
  {
   "cell_type": "markdown",
   "id": "b31f3d2a",
   "metadata": {
    "pycharm": {
     "name": "#%% md\n"
    }
   },
   "source": [
    "### Introduction:\n",
    "\n",
    "This exercise is based on the titanic Disaster dataset avaiable at [Kaggle](https://www.kaggle.com/c/titanic).  \n",
    "To know more about the variables check [here](https://www.kaggle.com/c/titanic/data)\n",
    "\n",
    "\n",
    "### Step 1. Import the necessary libraries"
   ]
  },
  {
   "cell_type": "code",
   "execution_count": 155,
   "id": "af7f3be3",
   "metadata": {
    "pycharm": {
     "name": "#%%\n"
    }
   },
   "outputs": [],
   "source": []
  },
  {
   "cell_type": "markdown",
   "id": "27516d9f",
   "metadata": {
    "pycharm": {
     "name": "#%% md\n"
    }
   },
   "source": [
    "### Step 2. Import the dataset from this [address](https://raw.githubusercontent.com/guipsamora/pandas_exercises/master/07_Visualization/Titanic_Desaster/train.csv)"
   ]
  },
  {
   "cell_type": "markdown",
   "id": "cbffa305",
   "metadata": {
    "pycharm": {
     "name": "#%% md\n"
    }
   },
   "source": [
    "### Step 3. Assign it to a variable titanic "
   ]
  },
  {
   "cell_type": "code",
   "execution_count": 155,
   "id": "8ee77fc2",
   "metadata": {
    "pycharm": {
     "name": "#%%\n"
    }
   },
   "outputs": [],
   "source": []
  },
  {
   "cell_type": "markdown",
   "id": "cde83321",
   "metadata": {
    "pycharm": {
     "name": "#%% md\n"
    }
   },
   "source": [
    "### Step 4. Set PassengerId as the index "
   ]
  },
  {
   "cell_type": "code",
   "execution_count": 155,
   "id": "2688e8b8",
   "metadata": {
    "pycharm": {
     "name": "#%%\n"
    }
   },
   "outputs": [],
   "source": []
  },
  {
   "cell_type": "markdown",
   "id": "8521c676",
   "metadata": {
    "pycharm": {
     "name": "#%% md\n"
    }
   },
   "source": [
    "### Step 5. Create a pie chart presenting the male/female proportion"
   ]
  },
  {
   "cell_type": "code",
   "execution_count": 155,
   "id": "8e733319",
   "metadata": {
    "pycharm": {
     "name": "#%%\n"
    }
   },
   "outputs": [],
   "source": []
  },
  {
   "cell_type": "markdown",
   "id": "649e4637",
   "metadata": {
    "pycharm": {
     "name": "#%% md\n"
    }
   },
   "source": [
    "### Step 6. Create a scatterplot with the Fare payed and the Age, differ the plot color by gender"
   ]
  },
  {
   "cell_type": "code",
   "execution_count": 155,
   "id": "92164732",
   "metadata": {
    "pycharm": {
     "name": "#%%\n"
    }
   },
   "outputs": [],
   "source": []
  },
  {
   "cell_type": "markdown",
   "id": "1adedc10",
   "metadata": {
    "pycharm": {
     "name": "#%% md\n"
    }
   },
   "source": [
    "### Step 7. How many people survived?"
   ]
  },
  {
   "cell_type": "code",
   "execution_count": 155,
   "id": "4abad8fb",
   "metadata": {
    "pycharm": {
     "name": "#%%\n"
    }
   },
   "outputs": [],
   "source": []
  },
  {
   "cell_type": "markdown",
   "id": "87dac705",
   "metadata": {
    "pycharm": {
     "name": "#%% md\n"
    }
   },
   "source": [
    "### Step 8. Create a histogram with the Fare payed"
   ]
  },
  {
   "cell_type": "code",
   "execution_count": 155,
   "id": "bc52c481",
   "metadata": {
    "pycharm": {
     "name": "#%%\n"
    }
   },
   "outputs": [],
   "source": []
  },
  {
   "cell_type": "markdown",
   "id": "d8dbfcaf",
   "metadata": {
    "pycharm": {
     "name": "#%% md\n"
    }
   },
   "source": [
    "### BONUS: Create your own question and answer it."
   ]
  },
  {
   "cell_type": "code",
   "execution_count": 155,
   "id": "e13ab414",
   "metadata": {
    "pycharm": {
     "name": "#%%\n"
    }
   },
   "outputs": [],
   "source": []
  },
  {
   "cell_type": "markdown",
   "id": "448734a8",
   "metadata": {
    "collapsed": true,
    "pycharm": {
     "name": "#%% md\n"
    }
   },
   "source": [
    "## Section 8: Creating Series and DataFrames"
   ]
  },
  {
   "cell_type": "markdown",
   "id": "738a181a",
   "metadata": {
    "pycharm": {
     "name": "#%% md\n"
    }
   },
   "source": [
    "### Introduction:\n",
    "\n",
    "This time you will create the data.\n",
    "\n",
    "\n",
    "\n",
    "### Step 1. Import the necessary libraries"
   ]
  },
  {
   "cell_type": "code",
   "execution_count": 155,
   "id": "2c1b5c9c",
   "metadata": {
    "pycharm": {
     "name": "#%%\n"
    }
   },
   "outputs": [],
   "source": []
  },
  {
   "cell_type": "markdown",
   "id": "5bdbd7f3",
   "metadata": {
    "pycharm": {
     "name": "#%% md\n"
    }
   },
   "source": [
    "### Step 2. Create a data dictionary that looks like the DataFrame below"
   ]
  },
  {
   "cell_type": "code",
   "execution_count": 155,
   "id": "00bc7623",
   "metadata": {
    "collapsed": true,
    "pycharm": {
     "name": "#%%\n"
    }
   },
   "outputs": [],
   "source": []
  },
  {
   "cell_type": "markdown",
   "id": "5f4768bc",
   "metadata": {
    "pycharm": {
     "name": "#%% md\n"
    }
   },
   "source": [
    "### Step 3. Assign it to a variable called pokemon"
   ]
  },
  {
   "cell_type": "code",
   "execution_count": 155,
   "id": "20222f8f",
   "metadata": {
    "pycharm": {
     "name": "#%%\n"
    }
   },
   "outputs": [],
   "source": []
  },
  {
   "cell_type": "markdown",
   "id": "c9257b6d",
   "metadata": {
    "pycharm": {
     "name": "#%% md\n"
    }
   },
   "source": [
    "### Step 4. Ops...it seems the DataFrame columns are in alphabetical order. Place  the order of the columns as name, type, hp, evolution, pokedex"
   ]
  },
  {
   "cell_type": "code",
   "execution_count": 155,
   "id": "5a6b37f9",
   "metadata": {
    "pycharm": {
     "name": "#%%\n"
    }
   },
   "outputs": [],
   "source": []
  },
  {
   "cell_type": "markdown",
   "id": "9f2b0341",
   "metadata": {
    "pycharm": {
     "name": "#%% md\n"
    }
   },
   "source": [
    "### Step 5. Add another column called place, and insert what you have in mind."
   ]
  },
  {
   "cell_type": "code",
   "execution_count": 155,
   "id": "90c19f79",
   "metadata": {
    "pycharm": {
     "name": "#%%\n"
    }
   },
   "outputs": [],
   "source": []
  },
  {
   "cell_type": "markdown",
   "id": "0f594dc0",
   "metadata": {
    "pycharm": {
     "name": "#%% md\n"
    }
   },
   "source": [
    "### Step 6. Present the type of each column"
   ]
  },
  {
   "cell_type": "code",
   "execution_count": 155,
   "id": "dfd80172",
   "metadata": {
    "pycharm": {
     "name": "#%%\n"
    }
   },
   "outputs": [],
   "source": []
  },
  {
   "cell_type": "markdown",
   "id": "58e6b8fa",
   "metadata": {
    "pycharm": {
     "name": "#%% md\n"
    }
   },
   "source": [
    "### BONUS: Create your own question and answer it."
   ]
  },
  {
   "cell_type": "code",
   "execution_count": 155,
   "id": "6a97fc28",
   "metadata": {
    "pycharm": {
     "name": "#%%\n"
    }
   },
   "outputs": [],
   "source": []
  },
  {
   "cell_type": "markdown",
   "id": "010c5b0f",
   "metadata": {
    "collapsed": true,
    "pycharm": {
     "name": "#%% md\n"
    }
   },
   "source": [
    "## Section: 9 Time Series"
   ]
  },
  {
   "cell_type": "markdown",
   "id": "e3a0ed0d",
   "metadata": {
    "pycharm": {
     "name": "#%% md\n"
    }
   },
   "source": [
    "### Introduction:\n",
    "\n",
    "We are going to use Apple's stock price.\n",
    "\n",
    "\n",
    "### Step 1. Import the necessary libraries"
   ]
  },
  {
   "cell_type": "code",
   "execution_count": 155,
   "id": "d02fb709",
   "metadata": {
    "pycharm": {
     "name": "#%%\n"
    }
   },
   "outputs": [],
   "source": []
  },
  {
   "cell_type": "markdown",
   "id": "52d58d8c",
   "metadata": {
    "pycharm": {
     "name": "#%% md\n"
    }
   },
   "source": [
    "### Step 2. Import the dataset from this [address](https://raw.githubusercontent.com/guipsamora/pandas_exercises/master/09_Time_Series/Apple_Stock/appl_1980_2014.csv)"
   ]
  },
  {
   "cell_type": "code",
   "execution_count": 155,
   "id": "50dd5dc5",
   "metadata": {
    "collapsed": true,
    "pycharm": {
     "name": "#%%\n"
    }
   },
   "outputs": [],
   "source": []
  },
  {
   "cell_type": "markdown",
   "id": "e4ac4bef",
   "metadata": {
    "pycharm": {
     "name": "#%% md\n"
    }
   },
   "source": [
    "### Step 3. Assign it to a variable apple"
   ]
  },
  {
   "cell_type": "code",
   "execution_count": 155,
   "id": "9e1f55b9",
   "metadata": {
    "pycharm": {
     "name": "#%%\n"
    }
   },
   "outputs": [],
   "source": []
  },
  {
   "cell_type": "markdown",
   "id": "6f1765e1",
   "metadata": {
    "pycharm": {
     "name": "#%% md\n"
    }
   },
   "source": [
    "### Step 4.  Check out the type of the columns"
   ]
  },
  {
   "cell_type": "code",
   "execution_count": 155,
   "id": "fa9c07c8",
   "metadata": {
    "pycharm": {
     "name": "#%%\n"
    }
   },
   "outputs": [],
   "source": []
  },
  {
   "cell_type": "markdown",
   "id": "dd76957d",
   "metadata": {
    "pycharm": {
     "name": "#%% md\n"
    }
   },
   "source": [
    "### Step 5. Transform the Date column as a datetime type"
   ]
  },
  {
   "cell_type": "code",
   "execution_count": 155,
   "id": "2a5f2d68",
   "metadata": {
    "pycharm": {
     "name": "#%%\n"
    }
   },
   "outputs": [],
   "source": []
  },
  {
   "cell_type": "markdown",
   "id": "d637aead",
   "metadata": {
    "pycharm": {
     "name": "#%% md\n"
    }
   },
   "source": [
    "### Step 6.  Set the date as the index"
   ]
  },
  {
   "cell_type": "code",
   "execution_count": 155,
   "id": "235b98a5",
   "metadata": {
    "pycharm": {
     "name": "#%%\n"
    }
   },
   "outputs": [],
   "source": []
  },
  {
   "cell_type": "markdown",
   "id": "e92d4a7b",
   "metadata": {
    "pycharm": {
     "name": "#%% md\n"
    }
   },
   "source": [
    "### Step 7.  Is there any duplicate dates?"
   ]
  },
  {
   "cell_type": "code",
   "execution_count": 155,
   "id": "a94454ad",
   "metadata": {
    "pycharm": {
     "name": "#%%\n"
    }
   },
   "outputs": [],
   "source": []
  },
  {
   "cell_type": "markdown",
   "id": "0066ff8e",
   "metadata": {
    "pycharm": {
     "name": "#%% md\n"
    }
   },
   "source": [
    "### Step 8.  Ops...it seems the index is from the most recent date. Make the first entry the oldest date."
   ]
  },
  {
   "cell_type": "code",
   "execution_count": 155,
   "id": "6ed4a7da",
   "metadata": {
    "pycharm": {
     "name": "#%%\n"
    }
   },
   "outputs": [],
   "source": []
  },
  {
   "cell_type": "markdown",
   "id": "a13a11f8",
   "metadata": {
    "pycharm": {
     "name": "#%% md\n"
    }
   },
   "source": [
    "### Step 9. Get the last business day of each month"
   ]
  },
  {
   "cell_type": "code",
   "execution_count": 155,
   "id": "8e9ed699",
   "metadata": {
    "pycharm": {
     "name": "#%%\n"
    }
   },
   "outputs": [],
   "source": []
  },
  {
   "cell_type": "markdown",
   "id": "e2451020",
   "metadata": {
    "pycharm": {
     "name": "#%% md\n"
    }
   },
   "source": [
    "### Step 10.  What is the difference in days between the first day and the oldest"
   ]
  },
  {
   "cell_type": "code",
   "execution_count": 155,
   "id": "026edead",
   "metadata": {
    "pycharm": {
     "name": "#%%\n"
    }
   },
   "outputs": [],
   "source": []
  },
  {
   "cell_type": "markdown",
   "id": "8cd014a7",
   "metadata": {
    "pycharm": {
     "name": "#%% md\n"
    }
   },
   "source": [
    "### Step 11.  How many months in the data we have?"
   ]
  },
  {
   "cell_type": "code",
   "execution_count": 155,
   "id": "6bca3e15",
   "metadata": {
    "pycharm": {
     "name": "#%%\n"
    }
   },
   "outputs": [],
   "source": []
  },
  {
   "cell_type": "markdown",
   "id": "cfeb4420",
   "metadata": {
    "pycharm": {
     "name": "#%% md\n"
    }
   },
   "source": [
    "### Step 12. Plot the 'Adj Close' value. Set the size of the figure to 13.5 x 9 inches"
   ]
  },
  {
   "cell_type": "code",
   "execution_count": 155,
   "id": "da000518",
   "metadata": {
    "pycharm": {
     "name": "#%%\n"
    }
   },
   "outputs": [],
   "source": []
  },
  {
   "cell_type": "markdown",
   "id": "cfb95842",
   "metadata": {
    "pycharm": {
     "name": "#%% md\n"
    }
   },
   "source": [
    "## Section 10: Deleting"
   ]
  },
  {
   "cell_type": "markdown",
   "id": "62720a79",
   "metadata": {
    "pycharm": {
     "name": "#%% md\n"
    }
   },
   "source": [
    "### Introduction:\n",
    "\n",
    "This exercise is a adaptation from the UCI Wine dataset.\n",
    "The only pupose is to practice deleting data with pandas.\n",
    "\n",
    "### Step 1. Import the necessary libraries"
   ]
  },
  {
   "cell_type": "code",
   "execution_count": 155,
   "id": "31518cc9",
   "metadata": {
    "pycharm": {
     "name": "#%%\n"
    }
   },
   "outputs": [],
   "source": []
  },
  {
   "cell_type": "markdown",
   "id": "564bb9ac",
   "metadata": {
    "pycharm": {
     "name": "#%% md\n"
    }
   },
   "source": [
    "### Step 2. Import the dataset from this [address](https://archive.ics.uci.edu/ml/machine-learning-databases/wine/wine.data). "
   ]
  },
  {
   "cell_type": "markdown",
   "id": "1f1f95a2",
   "metadata": {
    "pycharm": {
     "name": "#%% md\n"
    }
   },
   "source": [
    "### Step 3. Assign it to a variable called wine"
   ]
  },
  {
   "cell_type": "code",
   "execution_count": 155,
   "id": "4e130c72",
   "metadata": {
    "pycharm": {
     "name": "#%%\n"
    }
   },
   "outputs": [],
   "source": []
  },
  {
   "cell_type": "markdown",
   "id": "0c41d696",
   "metadata": {
    "pycharm": {
     "name": "#%% md\n"
    }
   },
   "source": [
    "### Step 4. Delete the first, fourth, seventh, nineth, eleventh, thirteenth and fourteenth columns"
   ]
  },
  {
   "cell_type": "code",
   "execution_count": 155,
   "id": "da66b0f2",
   "metadata": {
    "pycharm": {
     "name": "#%%\n"
    }
   },
   "outputs": [],
   "source": []
  },
  {
   "cell_type": "markdown",
   "id": "c5a0fe9a",
   "metadata": {
    "pycharm": {
     "name": "#%% md\n"
    }
   },
   "source": [
    "### Step 5. Assign the columns as below:\n",
    "\n",
    "The attributes are (donated by Riccardo Leardi, riclea '@' anchem.unige.it):  \n",
    "1) alcohol  \n",
    "2) malic_acid  \n",
    "3) alcalinity_of_ash  \n",
    "4) magnesium  \n",
    "5) flavanoids  \n",
    "6) proanthocyanins  \n",
    "7) hue "
   ]
  },
  {
   "cell_type": "code",
   "execution_count": 155,
   "id": "ce18c3cd",
   "metadata": {
    "pycharm": {
     "name": "#%%\n"
    }
   },
   "outputs": [],
   "source": []
  },
  {
   "cell_type": "markdown",
   "id": "94b22358",
   "metadata": {
    "pycharm": {
     "name": "#%% md\n"
    }
   },
   "source": [
    "### Step 6. Set the values of the first 3 rows from alcohol as NaN"
   ]
  },
  {
   "cell_type": "code",
   "execution_count": 155,
   "id": "6dacd432",
   "metadata": {
    "pycharm": {
     "name": "#%%\n"
    }
   },
   "outputs": [],
   "source": []
  },
  {
   "cell_type": "markdown",
   "id": "2449e0ac",
   "metadata": {
    "pycharm": {
     "name": "#%% md\n"
    }
   },
   "source": [
    "### Step 7. Now set the value of the rows 3 and 4 of magnesium as NaN"
   ]
  },
  {
   "cell_type": "code",
   "execution_count": 155,
   "id": "8e659f67",
   "metadata": {
    "pycharm": {
     "name": "#%%\n"
    }
   },
   "outputs": [],
   "source": []
  },
  {
   "cell_type": "markdown",
   "id": "135f1b41",
   "metadata": {
    "pycharm": {
     "name": "#%% md\n"
    }
   },
   "source": [
    "### Step 8. Fill the value of NaN with the number 10 in alcohol and 100 in magnesium"
   ]
  },
  {
   "cell_type": "code",
   "execution_count": 155,
   "id": "bdb57870",
   "metadata": {
    "pycharm": {
     "name": "#%%\n"
    }
   },
   "outputs": [],
   "source": []
  },
  {
   "cell_type": "markdown",
   "id": "5b07a6f4",
   "metadata": {
    "pycharm": {
     "name": "#%% md\n"
    }
   },
   "source": [
    "### Step 9. Count the number of missing values"
   ]
  },
  {
   "cell_type": "code",
   "execution_count": 155,
   "id": "b8f9f565",
   "metadata": {
    "pycharm": {
     "name": "#%%\n"
    }
   },
   "outputs": [],
   "source": []
  },
  {
   "cell_type": "markdown",
   "id": "e41bc334",
   "metadata": {
    "pycharm": {
     "name": "#%% md\n"
    }
   },
   "source": [
    "### Step 10.  Create an array of 10 random numbers up until 10"
   ]
  },
  {
   "cell_type": "code",
   "execution_count": 155,
   "id": "437d0084",
   "metadata": {
    "pycharm": {
     "name": "#%%\n"
    }
   },
   "outputs": [],
   "source": []
  },
  {
   "cell_type": "markdown",
   "id": "498e2cad",
   "metadata": {
    "pycharm": {
     "name": "#%% md\n"
    }
   },
   "source": [
    "### Step 11.  Use random numbers you generated as an index and assign NaN value to each of cell."
   ]
  },
  {
   "cell_type": "code",
   "execution_count": 155,
   "id": "cd1ba6ef",
   "metadata": {
    "pycharm": {
     "name": "#%%\n"
    }
   },
   "outputs": [],
   "source": []
  },
  {
   "cell_type": "markdown",
   "id": "ae9adea8",
   "metadata": {
    "pycharm": {
     "name": "#%% md\n"
    }
   },
   "source": [
    "### Step 12.  How many missing values do we have?"
   ]
  },
  {
   "cell_type": "code",
   "execution_count": 155,
   "id": "5bfe2ca7",
   "metadata": {
    "pycharm": {
     "name": "#%%\n"
    }
   },
   "outputs": [],
   "source": []
  },
  {
   "cell_type": "markdown",
   "id": "e1930d56",
   "metadata": {
    "pycharm": {
     "name": "#%% md\n"
    }
   },
   "source": [
    "### Step 13. Delete the rows that contain missing values"
   ]
  },
  {
   "cell_type": "code",
   "execution_count": 155,
   "id": "c3458689",
   "metadata": {
    "pycharm": {
     "name": "#%%\n"
    }
   },
   "outputs": [],
   "source": []
  },
  {
   "cell_type": "markdown",
   "id": "0730ca32",
   "metadata": {
    "pycharm": {
     "name": "#%% md\n"
    }
   },
   "source": [
    "### Step 14. Print only the non-null values in alcohol"
   ]
  },
  {
   "cell_type": "code",
   "execution_count": 155,
   "id": "71e0aa4d",
   "metadata": {
    "pycharm": {
     "name": "#%%\n"
    }
   },
   "outputs": [],
   "source": []
  },
  {
   "cell_type": "markdown",
   "id": "1d3b99c6",
   "metadata": {
    "pycharm": {
     "name": "#%% md\n"
    }
   },
   "source": [
    "### Step 15.  Reset the index, so it starts with 0 again"
   ]
  },
  {
   "cell_type": "code",
   "execution_count": 155,
   "id": "4b240c6a",
   "metadata": {
    "pycharm": {
     "name": "#%%\n"
    }
   },
   "outputs": [],
   "source": []
  }
 ],
 "metadata": {
  "kernelspec": {
   "display_name": "Python 3.10.4 ('PP3-AI-practical-project-3-pandas-y1kvwBBN')",
   "language": "python",
   "name": "python3"
  },
  "language_info": {
   "codemirror_mode": {
    "name": "ipython",
    "version": 3
   },
   "file_extension": ".py",
   "mimetype": "text/x-python",
   "name": "python",
   "nbconvert_exporter": "python",
   "pygments_lexer": "ipython3",
   "version": "3.10.4"
  },
  "vscode": {
   "interpreter": {
    "hash": "bd8f09320c8656109d2c884f32993e2b3866dd56bc003ad614d9e58b34b0d7bc"
   }
  }
 },
 "nbformat": 4,
 "nbformat_minor": 5
}